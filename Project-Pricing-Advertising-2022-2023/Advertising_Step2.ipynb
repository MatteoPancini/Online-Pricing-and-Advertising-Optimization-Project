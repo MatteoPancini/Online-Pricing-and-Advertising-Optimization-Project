{
 "cells": [
  {
   "cell_type": "code",
   "execution_count": 4,
   "metadata": {
    "ExecuteTime": {
     "end_time": "2023-05-13T10:01:35.593661Z",
     "start_time": "2023-05-13T10:01:33.881052Z"
    },
    "collapsed": false
   },
   "outputs": [],
   "source": [
    "import numpy as np\n",
    "import matplotlib.pyplot as plt\n",
    "from tqdm import tqdm\n",
    "\n",
    "from User_Classes import UserClass\n",
    "from Advertising_Environment import calculate_margin, calculate_price_index\n",
    "from Clairvoyant import find_optimal_bid_for_class"
   ]
  },
  {
   "cell_type": "code",
   "execution_count": 5,
   "metadata": {},
   "outputs": [
    {
     "name": "stdout",
     "output_type": "stream",
     "text": [
      "c:\\Users\\Andrea\\Documents\\GitHub\\OLA_2023_Private\n"
     ]
    }
   ],
   "source": [
    "%cd .."
   ]
  },
  {
   "cell_type": "code",
   "execution_count": 6,
   "metadata": {},
   "outputs": [],
   "source": [
    "from Advertising.GPTS_Learner import GPTS_Learner\n",
    "\n",
    "import warnings\n",
    "warnings.filterwarnings(\"ignore\")"
   ]
  },
  {
   "cell_type": "code",
   "execution_count": 7,
   "metadata": {},
   "outputs": [
    {
     "name": "stdout",
     "output_type": "stream",
     "text": [
      "c:\\Users\\Andrea\\Documents\\GitHub\\OLA_2023_Private\\Project-Pricing-Advertising-2022-2023\n"
     ]
    }
   ],
   "source": [
    "%cd Project-Pricing-Advertising-2022-2023"
   ]
  },
  {
   "attachments": {},
   "cell_type": "markdown",
   "metadata": {
    "collapsed": false
   },
   "source": [
    "# Environment"
   ]
  },
  {
   "cell_type": "code",
   "execution_count": 8,
   "metadata": {
    "ExecuteTime": {
     "end_time": "2023-05-13T10:16:19.044938Z",
     "start_time": "2023-05-13T10:16:19.043142Z"
    },
    "collapsed": false
   },
   "outputs": [],
   "source": [
    "#Environment\n",
    "n_arms = 100\n",
    "min_bid = 0.01\n",
    "max_bid = 3.0\n",
    "bids = np.linspace(min_bid, max_bid, n_arms)\n",
    "sigma = 200\n",
    "\n",
    "user = UserClass(name='C1')\n",
    "\n",
    "#names = ['Young ', 'Old', 'Not Sporty', 'Sporty']\n",
    "\n",
    "price = 200\n",
    "T = 365\n",
    "n_experiments = 1000\n",
    "\n",
    "gpts_rewards_per_experiment = []\n",
    "\n",
    "optimum_bid = find_optimal_bid_for_class(user.user_index, calculate_price_index(price))"
   ]
  },
  {
   "cell_type": "code",
   "execution_count": 9,
   "metadata": {
    "ExecuteTime": {
     "end_time": "2023-05-13T10:01:37.116851Z",
     "start_time": "2023-05-13T10:01:37.113656Z"
    },
    "collapsed": false
   },
   "outputs": [],
   "source": [
    "def fun(user_class, bid, price):\n",
    "    mean_per_bid = user_class.get_click_bids(bid) * (user_class.get_conversion_per_price(price) * calculate_margin(price)) - user_class.get_click_bids(bid) * user_class.get_cost_per_click(bid)    #sample_cost\n",
    "    return mean_per_bid"
   ]
  },
  {
   "cell_type": "code",
   "execution_count": 10,
   "metadata": {
    "ExecuteTime": {
     "end_time": "2023-05-13T10:01:37.674795Z",
     "start_time": "2023-05-13T10:01:37.672470Z"
    },
    "collapsed": false
   },
   "outputs": [],
   "source": [
    "class BiddingEnvironment:\n",
    "    def __init__(self, bids, sigma, user_class, price, n_arms):\n",
    "        self.bids = bids\n",
    "        self.means = self.initialize_means(user_class=user_class, bids=bids, price=price)\n",
    "        self.sigmas = np.ones(len(bids)) * sigma\n",
    "        self.price = price\n",
    "        self.n_arms = n_arms\n",
    "\n",
    "    def initialize_means(self, user_class, bids, price):\n",
    "        means = np.zeros(len(bids))\n",
    "        for i in range(len(means)):\n",
    "                means[i] = fun(user_class, bids[i], price)\n",
    "        return means\n",
    "\n",
    "    def round(self, pulled_arm):\n",
    "        #print('Means')\n",
    "        #print(self.means[pulled_arm])\n",
    "        #print('Means Array')\n",
    "        #print(self.means)\n",
    "        return np.random.normal(self.means[pulled_arm], self.sigmas[pulled_arm])"
   ]
  },
  {
   "attachments": {},
   "cell_type": "markdown",
   "metadata": {
    "collapsed": false
   },
   "source": [
    "# Experiment"
   ]
  },
  {
   "cell_type": "code",
   "execution_count": 11,
   "metadata": {
    "ExecuteTime": {
     "end_time": "2023-05-13T10:21:52.327898Z",
     "start_time": "2023-05-13T10:18:35.808385Z"
    },
    "collapsed": false
   },
   "outputs": [
    {
     "name": "stderr",
     "output_type": "stream",
     "text": [
      "100%|██████████| 365/365 [07:00<00:00,  1.15s/it]\n",
      "100%|██████████| 365/365 [06:50<00:00,  1.12s/it]\n",
      "100%|██████████| 2/2 [13:50<00:00, 415.43s/it]\n"
     ]
    }
   ],
   "source": [
    "for e in tqdm(range(0, 2)):\n",
    "    env = BiddingEnvironment(bids=bids, sigma = sigma, user_class=user, price=price, n_arms=n_arms)\n",
    "    gpts_learner = GPTS_Learner(n_arms, arms=bids)\n",
    "\n",
    "    for t in tqdm(range(T)):\n",
    "        #GP Thompson Sampling\n",
    "        pulled_arm = gpts_learner.pull_arm()\n",
    "        reward = env.round(pulled_arm)\n",
    "        gpts_learner.update(pulled_arm, reward)\n",
    "\n",
    "    gpts_rewards_per_experiment.append(gpts_learner.collected_rewards)"
   ]
  },
  {
   "cell_type": "code",
   "execution_count": 12,
   "metadata": {
    "ExecuteTime": {
     "end_time": "2023-05-13T10:21:55.241641Z",
     "start_time": "2023-05-13T10:21:55.238223Z"
    },
    "collapsed": false
   },
   "outputs": [
    {
     "data": {
      "text/plain": [
       "array([13778.32432816, 13662.4480137 ,  6688.45534774, 13802.98607798,\n",
       "       13512.44887659, 14227.80787243, 12530.62123045, 10586.29268598,\n",
       "       13890.06198933, 13939.88277882, 13884.62789628, 13824.96121918,\n",
       "       13944.66119025, 13601.67897942, 13995.81519066, 14123.68167212,\n",
       "       13688.9299069 , 14111.44380148, 13480.12348178, 13722.81584681,\n",
       "       13738.66358878, 13529.39107298, 13779.83112217, 13509.95861359,\n",
       "       13820.88586174, 12280.19484785, 11191.25108484, 14072.53764627,\n",
       "        6750.19838164, 13797.47377716, 13885.96725216, 13572.80707745,\n",
       "       13570.99326627, 13949.37164166, 13400.91119719, 13765.22059942,\n",
       "       13572.49634399, 13733.43645789, 13529.95352376, 13150.59708558,\n",
       "       11403.05891501, 13114.49618687, 11205.69868245, 13415.48551959,\n",
       "       13661.94056792,  4033.56012127, 13865.5930321 , 13595.84005674,\n",
       "       13507.03431018, 13306.41834221, 14373.09357889, 13637.36486837,\n",
       "       13655.47004601, 13707.3857866 , 13736.76590762, 13754.41933348,\n",
       "       13924.76424934, 13642.91712312, 13401.9746118 , 13568.0521442 ,\n",
       "       13827.15938743, 13615.81305676, 13457.99114296, 13715.31917911,\n",
       "       13132.03629139, 11926.25514014, 13647.34456297, 13804.49407914,\n",
       "       13515.85554783, 13740.03282618, 13970.52897726, 14029.12444279,\n",
       "       13860.93202622, 13416.88738844, 13414.13718599, 13671.30656332,\n",
       "       13731.1200383 , 13751.74265421, 13839.26978754, 13919.21729505,\n",
       "       13990.36416318, 12801.55778377, 12805.99035038, 13803.80667356,\n",
       "       13760.50808631, 12128.2330449 , 11428.17560517, 13906.98712113,\n",
       "       10598.40843343, 13287.20452993, 13991.63750043, 13686.05214295,\n",
       "       13672.81445084, 14037.64265549, 13537.11511647, 13782.92577517,\n",
       "       13778.13749898, 10395.46009742, 13332.12153351, 13805.05107499,\n",
       "       13516.98793871, 13749.24240694, 13815.20972795, 13793.66530787,\n",
       "       13781.41930595, 13511.26765285, 13632.26973245, 13888.5426242 ,\n",
       "       13457.55106259, 13507.83836502, 13944.77560102, 14110.67621435,\n",
       "       13309.71708498,  4218.5826849 , 10443.20638898, 13541.60474953,\n",
       "       13841.64507058, 13475.4142251 , 13541.64109429,  5276.18182223,\n",
       "       13881.38562216, 13546.48773794, 14034.89247022, 13724.28666768,\n",
       "       13450.83057195, 13548.7991991 , 13835.28381809, 13640.79327425,\n",
       "        4321.89938561,  8570.82208649, 13537.84787838, 13810.7017193 ,\n",
       "        4201.86229454, 13612.57488389, 13798.65444131,  9531.50987675,\n",
       "       13531.36879004, 13615.22320074, 13789.55692791, 13832.52441551,\n",
       "       13793.79641123, 13921.66893885, 13559.04553939, 13594.174664  ,\n",
       "       13693.73095697,  4022.42857768, 13902.55769211, 14020.23350959,\n",
       "       12844.17221835, 13639.69852341, 14058.90849768, 13151.341192  ,\n",
       "       13693.9695119 , 13816.01486641, 13650.41303382, 14068.70952484,\n",
       "       13848.76856846, 13502.00031662, 13786.11399855, 13991.41970935,\n",
       "        2660.36272099, 13415.33643651, 13927.72506184, 14123.84367318,\n",
       "       13876.71139805, 13649.65025367, 10281.64653676, 13529.49739137,\n",
       "       13600.18204742, 12621.01340584, 13899.56008546, 13530.4538565 ,\n",
       "       13494.48517076, 14057.11935102, 13678.81647102,  2519.8882312 ,\n",
       "       13820.87492427, 12864.38868694, 13813.81301625, 13794.4781057 ,\n",
       "       13683.45757499, 13916.22224228, 13789.87362893, 13828.46992241,\n",
       "       13671.79425413, 13926.55993742,  8077.63073463, 12997.46226579,\n",
       "       13666.82937546, 13993.79770231, 13749.67888701, 11377.81493329,\n",
       "       13852.91155551,  7702.1657129 , 14029.32651641, 13837.01015688,\n",
       "       14066.29831566, 13798.22057753, 13672.54119704, 13762.56900588,\n",
       "       13492.03133397, 13956.49373649, 13468.6383113 , 11387.65429725,\n",
       "       12653.19535466, 13783.59183923, 13803.56606282, 13795.92847863,\n",
       "         471.57083153,  2428.80826645, 10685.98338342, 13553.86790367,\n",
       "       13745.41656247, 13029.82609233, 13730.71977059, 13482.11966574,\n",
       "       13585.4791024 , 13815.60128202, 13645.17600929, 13607.59278057,\n",
       "       13672.43620748, 13469.0109116 , 13704.05806148, 12492.32651578,\n",
       "       14059.2676466 , 13622.71890497, 13723.75434508, 13712.12827894,\n",
       "       13271.27943371, 13905.91685037, 13600.77650468,  5568.11699669,\n",
       "       13523.10212646, 13702.61683014,  7676.83357616, 13993.58661344,\n",
       "       14133.84422678, 13423.97770064, 13168.84863267, 14004.41330241,\n",
       "       13513.48551707, 14049.39522927, 13520.92212336, 13728.11751961,\n",
       "       13671.67931007, 13812.23553642, 12423.05253903, 13736.94810321,\n",
       "       13557.23206932, 13862.8433172 , 13420.26860999, 13775.52814577,\n",
       "       13799.05397666, 13666.71836081, 13684.70423911, 13826.69811076,\n",
       "       12635.89319569, 13699.85851732, 11533.42722072, 13182.81920981,\n",
       "       10973.85426841, 13893.00957291, 13819.62281758, 13337.76287529,\n",
       "       13824.68180442, 13716.15814691, 13395.76221549, 13617.55221556,\n",
       "       13636.01527004, 14046.14502964, 13816.71468829, 13808.0539933 ,\n",
       "       13857.86494618, 13703.10051249, 13873.13059551, 13641.0909208 ,\n",
       "       13615.430455  , 12953.99055058, 13747.27926342, 13846.23534426,\n",
       "       13573.95414301, 13611.8896073 , 13115.99685768, 13848.89445264,\n",
       "       13761.93808357, 12015.08387568, 13834.73154349, 13830.17159411,\n",
       "       12183.49900869, 13598.09097306, 13820.61002964, 13886.48357289,\n",
       "        2726.62761934, 12724.36092739, 13360.27448451, 13498.92912058,\n",
       "       13754.80742793, 13893.18551745,  7985.63371968, 14047.93811682,\n",
       "       13876.81052204,  8805.80644606, 13626.06621739, 13524.3957104 ,\n",
       "        8290.84727923, 13903.83439829, 14023.27681773, 10647.99328138,\n",
       "       13870.04414881, 13915.56231414, 13417.67907533, 13639.15926617,\n",
       "       13744.37102182, 13594.57697467, 14051.06940912, 13625.88982375,\n",
       "       13767.77948311, 13658.16017013, 14040.34162199, 13970.54744653,\n",
       "       13994.61670641, 13875.32635213, 13646.92320531, 13867.90785816,\n",
       "       13913.88605269,  9940.71946303, 13747.97253089, 13629.7627698 ,\n",
       "       14095.88005552, 13634.11000527, 12211.17741994, 13898.34108019,\n",
       "       11155.86788495,  8515.21327309,  7830.01236686, 14026.31311892,\n",
       "       13799.19560441, 12068.41307696, 13881.31668768, 13740.42678317,\n",
       "       13794.54770718, 13775.75878425,  2634.83495575, 13940.23303616,\n",
       "       13478.20218796, 13819.79107123, 13885.14039705, 12483.70096211,\n",
       "       13163.98115628, 13883.28553062, 14268.51613822, 13591.56474551,\n",
       "       10804.70768368, 13852.25497016, 13566.85719308, 13896.82121011,\n",
       "       12783.61303327, 13693.68602439, 13941.94646454,  4172.96799603,\n",
       "       13836.12744961, 11365.68069753, 13456.66545003, 14108.89403007,\n",
       "       13847.74016783])"
      ]
     },
     "execution_count": 12,
     "metadata": {},
     "output_type": "execute_result"
    }
   ],
   "source": [
    "gpts_rewards_per_experiment[1]"
   ]
  },
  {
   "cell_type": "code",
   "execution_count": 13,
   "metadata": {
    "ExecuteTime": {
     "end_time": "2023-05-13T10:21:55.862228Z",
     "start_time": "2023-05-13T10:21:55.858098Z"
    },
    "collapsed": false
   },
   "outputs": [
    {
     "data": {
      "text/plain": [
       "(1.0, 13767.97338369385)"
      ]
     },
     "execution_count": 13,
     "metadata": {},
     "output_type": "execute_result"
    }
   ],
   "source": [
    "optimum_bid"
   ]
  },
  {
   "attachments": {},
   "cell_type": "markdown",
   "metadata": {
    "collapsed": false
   },
   "source": [
    "# Plot"
   ]
  },
  {
   "cell_type": "code",
   "execution_count": 14,
   "metadata": {
    "ExecuteTime": {
     "end_time": "2023-05-13T10:22:00.819575Z",
     "start_time": "2023-05-13T10:22:00.733664Z"
    },
    "collapsed": false
   },
   "outputs": [
    {
     "data": {
      "image/png": "[encoded data removed]",
      "text/plain": [
       "<Figure size 640x480 with 1 Axes>"
      ]
     },
     "metadata": {},
     "output_type": "display_data"
    }
   ],
   "source": [
    "plt.figure(0)\n",
    "plt.ylabel(\"Regret\")\n",
    "plt.xlabel(\"t\")\n",
    "plt.plot(np.cumsum(np.mean(optimum_bid[1] - gpts_rewards_per_experiment, axis=0)), 'r')\n",
    "plt.legend([\"TS\", \"UCB\"])\n",
    "plt.show()"
   ]
  },
  {
   "cell_type": "code",
   "execution_count": null,
   "metadata": {},
   "outputs": [],
   "source": []
  }
 ],
 "metadata": {
  "kernelspec": {
   "display_name": "Python 3",
   "language": "python",
   "name": "python3"
  },
  "language_info": {
   "codemirror_mode": {
    "name": "ipython",
    "version": 3
   },
   "file_extension": ".py",
   "mimetype": "text/x-python",
   "name": "python",
   "nbconvert_exporter": "python",
   "pygments_lexer": "ipython3",
   "version": "3.10.6"
  }
 },
 "nbformat": 4,
 "nbformat_minor": 0
}
