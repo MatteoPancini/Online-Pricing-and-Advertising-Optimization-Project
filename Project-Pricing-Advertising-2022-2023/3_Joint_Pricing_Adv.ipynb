{
 "cells": [
  {
   "cell_type": "code",
   "execution_count": 1,
   "metadata": {
    "collapsed": false
   },
   "outputs": [],
   "source": [
    "import numpy as np\n",
    "import matplotlib.pyplot as plt\n",
    "from tqdm import tqdm\n",
    "from collections import deque\n",
    "\n",
    "from utils.User_Classes import UserClass\n",
    "from utils.Clairvoyant import find_optimal_bid_for_class\n",
    "from utils.tools import calculate_margin, calculate_price_index, fun\n",
    "from utils.learners.TS_Learner import TS_Learner\n",
    "from p3.bidding_enviroment import BiddingEnvironment, fun\n",
    "from p3.GPTS_learner import  GPTS_Learner3\n",
    "\n",
    "import warnings\n",
    "warnings.filterwarnings(\"ignore\")"
   ]
  },
  {
   "attachments": {},
   "cell_type": "markdown",
   "metadata": {
    "collapsed": false
   },
   "source": [
    "# Environment"
   ]
  },
  {
   "cell_type": "code",
   "execution_count": 2,
   "metadata": {
    "collapsed": false
   },
   "outputs": [],
   "source": [
    "#Environment\n",
    "n_arms = 100\n",
    "\n",
    "prices = [50, 100, 150, 200, 250]\n",
    "bids = np.linspace(0.01, 3.0, n_arms)\n",
    "sigma = 200\n",
    "\n",
    "user = UserClass(name='C1')\n",
    "\n",
    "T = 20\n",
    "n_experiments = 5\n",
    "\n",
    "gpts_rewards_per_experiment = []\n",
    "gpucb_rewards_per_experiment = []\n",
    "\n",
    "\n",
    "optimum_bid = find_optimal_bid_for_class(user.user_index, calculate_price_index(prices[3]))"
   ]
  },
  {
   "cell_type": "code",
   "execution_count": 7,
   "metadata": {},
   "outputs": [
    {
     "data": {
      "text/plain": [
       "(1.0, 13767.97338369385)"
      ]
     },
     "execution_count": 7,
     "metadata": {},
     "output_type": "execute_result"
    }
   ],
   "source": [
    "optimum_bid"
   ]
  },
  {
   "cell_type": "code",
   "execution_count": 8,
   "metadata": {},
   "outputs": [],
   "source": [
    "#TODO: move to p3\n",
    "class Environment_Pricing_3(): #m\n",
    "    def __init__(self, n_arms, user_class, probabilities):\n",
    "        self.user_class = user_class\n",
    "        self.time = 0\n",
    "        self.n_arms = n_arms\n",
    "        self.probabilities = probabilities\n",
    "\n",
    "    def round(self, user_class, price):\n",
    "        successes = np.random.binomial(n_trials, user_class.get_conversion_probabilities(price))\n",
    "        return successes"
   ]
  },
  {
   "cell_type": "code",
   "execution_count": 31,
   "metadata": {},
   "outputs": [
    {
     "name": "stderr",
     "output_type": "stream",
     "text": [
      "Number of experiments:   0%|          | 0/5 [00:00<?, ?it/s]"
     ]
    },
    {
     "name": "stdout",
     "output_type": "stream",
     "text": [
      "53\n"
     ]
    },
    {
     "name": "stderr",
     "output_type": "stream",
     "text": [
      "\n"
     ]
    },
    {
     "ename": "IndexError",
     "evalue": "list index out of range",
     "output_type": "error",
     "traceback": [
      "\u001b[1;31m---------------------------------------------------------------------------\u001b[0m",
      "\u001b[1;31mIndexError\u001b[0m                                Traceback (most recent call last)",
      "\u001b[1;32mc:\\Progetto_Ing_Informatica\\OLA_2023_Private\\Project-Pricing-Advertising-2022-2023\\3_Joint_Pricing_Adv.ipynb Cell 10\u001b[0m in \u001b[0;36m<cell line: 1>\u001b[1;34m()\u001b[0m\n\u001b[0;32m     <a href='vscode-notebook-cell:/c%3A/Progetto_Ing_Informatica/OLA_2023_Private/Project-Pricing-Advertising-2022-2023/3_Joint_Pricing_Adv.ipynb#X21sZmlsZQ%3D%3D?line=16'>17</a>\u001b[0m \u001b[39mprint\u001b[39m(pricing_pulled_arm)\n\u001b[0;32m     <a href='vscode-notebook-cell:/c%3A/Progetto_Ing_Informatica/OLA_2023_Private/Project-Pricing-Advertising-2022-2023/3_Joint_Pricing_Adv.ipynb#X21sZmlsZQ%3D%3D?line=17'>18</a>\u001b[0m arms\u001b[39m.\u001b[39mappend(pricing_pulled_arm)\n\u001b[0;32m     <a href='vscode-notebook-cell:/c%3A/Progetto_Ing_Informatica/OLA_2023_Private/Project-Pricing-Advertising-2022-2023/3_Joint_Pricing_Adv.ipynb#X21sZmlsZQ%3D%3D?line=18'>19</a>\u001b[0m bidding_pulled_arm \u001b[39m=\u001b[39m bidding_learner\u001b[39m.\u001b[39mpull_arm(pricing_learner\u001b[39m=\u001b[39mpricing_learner, price_idx\u001b[39m=\u001b[39mpricing_pulled_arm,\n\u001b[1;32m---> <a href='vscode-notebook-cell:/c%3A/Progetto_Ing_Informatica/OLA_2023_Private/Project-Pricing-Advertising-2022-2023/3_Joint_Pricing_Adv.ipynb#X21sZmlsZQ%3D%3D?line=19'>20</a>\u001b[0m                                               margin\u001b[39m=\u001b[39mcalculate_margin(prices[pricing_pulled_arm]))\n\u001b[0;32m     <a href='vscode-notebook-cell:/c%3A/Progetto_Ing_Informatica/OLA_2023_Private/Project-Pricing-Advertising-2022-2023/3_Joint_Pricing_Adv.ipynb#X21sZmlsZQ%3D%3D?line=21'>22</a>\u001b[0m \u001b[39m# simulate accesses\u001b[39;00m\n\u001b[0;32m     <a href='vscode-notebook-cell:/c%3A/Progetto_Ing_Informatica/OLA_2023_Private/Project-Pricing-Advertising-2022-2023/3_Joint_Pricing_Adv.ipynb#X21sZmlsZQ%3D%3D?line=22'>23</a>\u001b[0m \u001b[39m# empty daily reward\u001b[39;00m\n\u001b[0;32m     <a href='vscode-notebook-cell:/c%3A/Progetto_Ing_Informatica/OLA_2023_Private/Project-Pricing-Advertising-2022-2023/3_Joint_Pricing_Adv.ipynb#X21sZmlsZQ%3D%3D?line=23'>24</a>\u001b[0m ts_daily \u001b[39m=\u001b[39m {\u001b[39m'\u001b[39m\u001b[39mreward\u001b[39m\u001b[39m'\u001b[39m: \u001b[39m0\u001b[39m, \u001b[39m'\u001b[39m\u001b[39msuccesses\u001b[39m\u001b[39m'\u001b[39m: \u001b[39m0\u001b[39m, \u001b[39m'\u001b[39m\u001b[39mclicks\u001b[39m\u001b[39m'\u001b[39m: \u001b[39m0\u001b[39m}\n",
      "\u001b[1;31mIndexError\u001b[0m: list index out of range"
     ]
    }
   ],
   "source": [
    "for e in tqdm(range(n_experiments), desc='Number of experiments'):\n",
    "    # Create Learner\n",
    "    pricing_learner = TS_Learner(n_arms)\n",
    "    bidding_learner = GPTS_Learner3(n_arms, arms=bids)\n",
    "    ts_rewards = []\n",
    "\n",
    "    # generate empty deque\n",
    "    arms = []\n",
    "    bids_p = []\n",
    "    first = True\n",
    "\n",
    "    # Simulate experiments\n",
    "    for d in range(T):\n",
    "\n",
    "        # choose arms\n",
    "        pricing_pulled_arm = pricing_learner.pull_arm()\n",
    "        print(pricing_pulled_arm)\n",
    "        arms.append(pricing_pulled_arm)\n",
    "        bidding_pulled_arm = bidding_learner.pull_arm(pricing_learner=pricing_learner, price_idx=pricing_pulled_arm,\n",
    "                                                      margin=calculate_margin(prices[pricing_pulled_arm]))\n",
    "\n",
    "        # simulate accesses\n",
    "        # empty daily reward\n",
    "        ts_daily = {'reward': 0, 'successes': 0, 'clicks': 0}\n",
    "        costpc = 0\n",
    "\n",
    "        n_trials, costpc = bid_env.round(pulled_arm=bidding_pulled_arm, user_c=i)\n",
    "        # quanti acquisti\n",
    "        ts_successes = pr_env.round(pricing_pulled_arm, c, n_trials)\n",
    "        # aggiorno beta\n",
    "        pricing_learner.update(pricing_pulled_arm, ts_successes, n_trials)\n",
    "\n",
    "        # aggiorno reward_giornaliera\n",
    "        ts_daily['reward'] += (ts_successes + ts_class_returns) * margin(prices[pricing_pulled_arm]) - n_trials * costpc\n",
    "        ts_daily['successes'] += ts_successes\n",
    "        ts_daily['clicks'] += n_trials\n",
    "\n",
    "        # work on dequy\n",
    "        ts_dicty = {'arm': pricing_pulled_arm, 'sample': ts_daily['successes']}\n",
    "        ts_dequy.append(ts_dicty)\n",
    "        pricing_learner.update_poisson(ts_dequy.popleft())\n",
    "        bidding_learner.update(pulled_arm=bidding_pulled_arm, costs=costpc, clicks=ts_daily['clicks'])\n",
    "        # save daily reward\n",
    "        ts_rewards.append(ts_daily['reward'])\n",
    "        if check_convergence(arms)[0] and first:\n",
    "            Didi = {'arm': check_convergence(arms)[1], 'day': d, 'exp': e}\n",
    "            first = False\n",
    "            conv_arms.append(Didi)\n",
    "            # print(check_convergence(arms)[1])\n",
    "        bids_p.append(bidding_pulled_arm)\n",
    "        if check_convergence(bids_p, crit=0.7)[0]:\n",
    "            print('Conv bid', check_convergence(bids_p, crit=0.7)[1])\n",
    "\n",
    "    final_bids.append(bids_p)\n",
    "    # print(arms)\n",
    "    ts_rewards.insert(0, 0)\n",
    "    ts_final_rewards.append(ts_rewards)\n",
    "final_bids = np.array(final_bids)\n",
    "\n"
   ]
  },
  {
   "attachments": {},
   "cell_type": "markdown",
   "metadata": {},
   "source": [
    "# Trash"
   ]
  },
  {
   "cell_type": "code",
   "execution_count": null,
   "metadata": {
    "collapsed": false
   },
   "outputs": [],
   "source": [
    "class Pricing_Environment():\n",
    "    def __init__(self, n_arms, probabilities, prices=None):\n",
    "        self.n_arms = n_arms\n",
    "        self.probabilities = probabilities\n",
    "        self.prices = prices\n",
    "\n",
    "    def round(self, pulled_arm, user_c, n_trials=1):\n",
    "        successes = np.random.binomial(n_trials, self.probabilities[user_c.index][pulled_arm])\n",
    "        number_returns = np.random.poisson(successes * self.poissons[user_c.index])\n",
    "        marg = self.margins[pulled_arm] * (number_returns + successes)\n",
    "        return successes, number_returns"
   ]
  },
  {
   "cell_type": "code",
   "execution_count": null,
   "metadata": {},
   "outputs": [],
   "source": [
    "class Bidding_Enviroment():\n",
    "    def __init__(self, bids, acc_sigma, cost_sigma, user_classes, n_arms):\n",
    "        self.bids = bids\n",
    "        self.acc_means = self.initialize_accesses(user_classes=user_classes, bids=bids)\n",
    "        self.cost_means = self.initialize_cost(user_classes=user_classes, bids=bids)\n",
    "        self.acc_sigmas = np.ones(len(bids)) * acc_sigma\n",
    "        self.cost_sigmas = np.ones(len(bids)) * cost_sigma\n",
    "        self.n_arms = n_arms\n",
    "\n",
    "    def initialize_accesses(self, user_classes, bids):\n",
    "        means = np.zeros(shape=(len(user_classes), len(bids)))\n",
    "        for ii, c in enumerate(user_classes):\n",
    "            for j, b in enumerate(bids):\n",
    "                means[ii, j] = c.clicks(b)\n",
    "        return means\n",
    "\n",
    "    def initialize_cost(self, user_classes, bids):\n",
    "        means = np.zeros(shape=(len(user_classes), len(bids)))\n",
    "        for ii, c in enumerate(user_classes):\n",
    "            for j, b in enumerate(bids):\n",
    "                means[ii, j] = cost_per_click(b)\n",
    "        return means\n",
    "\n",
    "    def round(self, pulled_arm, user_c):\n",
    "        sample_accesses = np.random.normal(self.acc_means[user_c, pulled_arm], self.acc_sigmas[pulled_arm])\n",
    "        sample_cost = np.random.normal(self.cost_means[user_c, pulled_arm], self.cost_sigmas[pulled_arm])\n",
    "        if sample_cost > self.bids[pulled_arm]:\n",
    "            sample_cost = self.bids[pulled_arm]\n",
    "        if sample_cost < 0:\n",
    "            sample_cost = 0\n",
    "        if int(sample_accesses) < 0:\n",
    "            sample_accesses = self.acc_means[user_c, pulled_arm]\n",
    "\n",
    "        return int(sample_accesses), sample_cost"
   ]
  },
  {
   "cell_type": "code",
   "execution_count": null,
   "metadata": {
    "collapsed": false
   },
   "outputs": [],
   "source": [
    "def fun(user_class, bid, price):\n",
    "    mean_per_bid = user_class.get_click_bids(bid) * (user_class.get_conversion_per_price(price) * calculate_margin(price)) - user_class.get_click_bids(bid) * user_class.get_cost_per_click(bid)    #sample_cost\n",
    "    return mean_per_bid\n",
    "\n",
    "class BiddingEnvironment:\n",
    "    def __init__(self, bids, sigma, user_class, price, n_arms):\n",
    "        self.bids = bids\n",
    "        self.means = self.initialize_means(user_class=user_class, bids=bids, price=price)\n",
    "        self.sigmas = np.ones(len(bids)) * sigma\n",
    "        self.price = price\n",
    "        self.n_arms = n_arms\n",
    "\n",
    "    def initialize_means(self, user_class, bids, price):\n",
    "        means = np.zeros(len(bids))\n",
    "        for i in range(len(means)):\n",
    "                means[i] = fun(user_class, bids[i], price)\n",
    "        return means\n",
    "\n",
    "    def round(self, pulled_arm):\n",
    "        return np.random.normal(self.means[pulled_arm], self.sigmas[pulled_arm])"
   ]
  },
  {
   "attachments": {},
   "cell_type": "markdown",
   "metadata": {},
   "source": []
  },
  {
   "cell_type": "code",
   "execution_count": null,
   "metadata": {},
   "outputs": [],
   "source": []
  }
 ],
 "metadata": {
  "kernelspec": {
   "display_name": "Python 3",
   "language": "python",
   "name": "python3"
  },
  "language_info": {
   "codemirror_mode": {
    "name": "ipython",
    "version": 3
   },
   "file_extension": ".py",
   "mimetype": "text/x-python",
   "name": "python",
   "nbconvert_exporter": "python",
   "pygments_lexer": "ipython3",
   "version": "3.8.16"
  }
 },
 "nbformat": 4,
 "nbformat_minor": 0
}
