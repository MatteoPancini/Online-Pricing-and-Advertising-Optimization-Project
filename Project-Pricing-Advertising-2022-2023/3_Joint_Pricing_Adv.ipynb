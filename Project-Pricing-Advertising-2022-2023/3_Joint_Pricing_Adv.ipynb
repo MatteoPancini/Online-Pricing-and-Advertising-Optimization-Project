{
 "cells": [
  {
   "cell_type": "code",
   "execution_count": 4,
   "metadata": {},
   "outputs": [
    {
     "name": "stdout",
     "output_type": "stream",
     "text": [
      "c:\\Progetto_Ing_Informatica\\OLA_2023_Private\n"
     ]
    }
   ],
   "source": [
    "cd ../"
   ]
  },
  {
   "cell_type": "code",
   "execution_count": 28,
   "metadata": {
    "collapsed": false
   },
   "outputs": [],
   "source": [
    "import numpy as np\n",
    "import matplotlib.pyplot as plt\n",
    "from tqdm import tqdm\n",
    "from collections import deque\n",
    "\n",
    "from User_Classes import UserClass\n",
    "from Advertising_Environment import calculate_margin, calculate_price_index\n",
    "from Clairvoyant import find_optimal_bid_for_class\n",
    "from Advertising.GPTS_Learner import GPTS_Learner\n",
    "from Advertising.GPUCB_Learner import GPUCB_Learner\n",
    "from TS_Learner import TS_Learner\n",
    "\n",
    "import warnings\n",
    "warnings.filterwarnings(\"ignore\")"
   ]
  },
  {
   "attachments": {},
   "cell_type": "markdown",
   "metadata": {
    "collapsed": false
   },
   "source": [
    "# Environment"
   ]
  },
  {
   "cell_type": "code",
   "execution_count": 21,
   "metadata": {
    "collapsed": false
   },
   "outputs": [],
   "source": [
    "#Environment\n",
    "n_arms = 100\n",
    "\n",
    "prices = [50, 100, 150, 200, 250]\n",
    "bids = np.linspace(0.01, 3.0, n_arms)\n",
    "sigma = 200\n",
    "\n",
    "user = UserClass(name='C1')\n",
    "\n",
    "T = 20\n",
    "n_experiments = 5\n",
    "\n",
    "gpts_rewards_per_experiment = []\n",
    "gpucb_rewards_per_experiment = []\n",
    "\n",
    "\n",
    "optimum_bid = find_optimal_bid_for_class(user.user_index, calculate_price_index(prices[3]))"
   ]
  },
  {
   "cell_type": "code",
   "execution_count": 7,
   "metadata": {},
   "outputs": [
    {
     "data": {
      "text/plain": [
       "(1.0, 13767.97338369385)"
      ]
     },
     "execution_count": 7,
     "metadata": {},
     "output_type": "execute_result"
    }
   ],
   "source": [
    "optimum_bid"
   ]
  },
  {
   "cell_type": "code",
   "execution_count": 8,
   "metadata": {},
   "outputs": [],
   "source": [
    "class Environment_Pricing_3(): #m\n",
    "    def __init__(self, n_arms, user_class, probabilities):\n",
    "        self.user_class = user_class\n",
    "        self.time = 0\n",
    "        self.n_arms = n_arms\n",
    "        self.probabilities = probabilities\n",
    "\n",
    "    def round(self, user_class, price):\n",
    "        successes = np.random.binomial(n_trials, user_class.get_conversion_probabilities(price))\n",
    "        return successes"
   ]
  },
  {
   "cell_type": "code",
   "execution_count": 9,
   "metadata": {},
   "outputs": [],
   "source": [
    "class BiddingEnvironment:\n",
    "    def __init__(self, bids, sigma, user_class, price, n_arms):\n",
    "        self.bids = bids\n",
    "        self.means = self.initialize_means(user_class=user_class, bids=bids, price=price)\n",
    "        self.sigmas = np.ones(len(bids)) * sigma\n",
    "        self.price = price\n",
    "        self.n_arms = n_arms\n",
    "\n",
    "    def initialize_means(self, user_class, bids, price):\n",
    "        means = np.zeros(len(bids))\n",
    "        for i in range(len(means)):\n",
    "                means[i] = fun(user_class, bids[i], price)\n",
    "        return means\n",
    "\n",
    "    def round(self, pulled_arm):\n",
    "        return np.random.normal(self.means[pulled_arm], self.sigmas[pulled_arm])"
   ]
  },
  {
   "cell_type": "code",
   "execution_count": 13,
   "metadata": {},
   "outputs": [],
   "source": [
    "\n",
    "class Learner:\n",
    "    #Initializes the Learner class with the number of arms, and creates empty lists for rewards per arm and collected rewards.\n",
    "    def __init__(self, n_arms):\n",
    "        self.n_arms = n_arms\n",
    "        self.t = 0\n",
    "        #list of emty lists, one list for every arm\n",
    "        self.rewards_per_arm = x = [[] for i in range(n_arms)]\n",
    "        self.collected_rewards = np.array([])\n",
    "\n",
    "    # input is pulled arm and environmental reward\n",
    "    # update the list reward per arm and collect reward\n",
    "    def update_observations(self, pulled_arm, reward):\n",
    "        #append the reward value to the list related to the arm\n",
    "        #pulled by the learn and passed as input\n",
    "        self.rewards_per_arm[pulled_arm].append(reward)\n",
    "        self.collected_rewards = np.append(self.collected_rewards, reward)\n",
    "\n",
    "\n",
    "\n",
    "\n"
   ]
  },
  {
   "cell_type": "code",
   "execution_count": 25,
   "metadata": {},
   "outputs": [],
   "source": [
    "from sklearn.gaussian_process import GaussianProcessRegressor\n",
    "from sklearn.gaussian_process.kernels import RBF, ConstantKernel as C\n",
    "\n",
    "class GPTS_Learner3(Learner):\n",
    "    def __init__(self, n_arms, arms):\n",
    "        super().__init__(n_arms)\n",
    "        self.arms = arms\n",
    "        self.means = np.zeros(self.n_arms)\n",
    "        self.sigmas = np.ones(self.n_arms)*10\n",
    "        self.pulled_arms = []\n",
    "        alpha = 10.0\n",
    "        #kernel = C(1.0, (1e-3, 1e3)) * RBF(1.0, (1e-3, 1e3))\n",
    "        #kernel_BlueCow\n",
    "        kernel = C(100, (100, 1e6)) * RBF(1, (1e-1, 1e1))\n",
    "        self.gp = GaussianProcessRegressor(kernel=kernel, alpha = alpha**2, normalize_y=True, n_restarts_optimizer= 9)\n",
    "\n",
    "#Override to update the value of the pulled arms list\n",
    "    def update_observations(self, arm_idx, reward):\n",
    "        super().update_observations(arm_idx, reward)\n",
    "        self.pulled_arms.append(self.arms[arm_idx])\n",
    "#update the means and sigmas with the new predictions\n",
    "    def update_model(self):\n",
    "        x = np.atleast_2d(self.pulled_arms).T\n",
    "        y = self.collected_rewards\n",
    "        self.gp.fit(x,y)\n",
    "        self.means, self.sigmas = self.gp.predict(np.atleast_2d(self.arms).T, return_std=True)\n",
    "        self.sigmas = np.maximum(self.sigmas, 1e-2)\n",
    "#calls both update lists\n",
    "    def update(self, pulled_arm, reward):\n",
    "        self.t += 1\n",
    "        self.update_observations(pulled_arm, reward)\n",
    "        self.update_model()\n",
    "#returns the index of the max value drawn from the arm normal distribution\n",
    "    def pull_arm(self, pricing_learner, price_idx, margin):\n",
    "        if self.t < self.n_arms:\n",
    "            return self.t  # % self.n_arms\n",
    "\n",
    "        try:\n",
    "            conv_rate = pricing_learner.beta_parameters[price_idx, 0] / (pricing_learner.beta_parameters[price_idx, 0]\n",
    "                                                                         + pricing_learner.beta_parameters[\n",
    "                                                                             price_idx, 1])\n",
    "        except ZeroDivisionError:\n",
    "            conv_rate = 0\n",
    "            print('DIV 0')\n",
    "        poisson = pricing_learner.poisson_vector[price_idx, 0] + 1\n",
    "\n",
    "        exp_rew = np.random.normal(self.acc_means * (np.ones(shape=self.n_arms)\n",
    "                                                     * margin * conv_rate * poisson - self.cost_means), 50)\n",
    "        bid_idx = np.argmax(exp_rew)\n",
    "\n",
    "        return bid_idx\n",
    "    "
   ]
  },
  {
   "cell_type": "code",
   "execution_count": 31,
   "metadata": {},
   "outputs": [
    {
     "name": "stderr",
     "output_type": "stream",
     "text": [
      "Number of experiments:   0%|          | 0/5 [00:00<?, ?it/s]"
     ]
    },
    {
     "name": "stdout",
     "output_type": "stream",
     "text": [
      "53\n"
     ]
    },
    {
     "name": "stderr",
     "output_type": "stream",
     "text": [
      "\n"
     ]
    },
    {
     "ename": "IndexError",
     "evalue": "list index out of range",
     "output_type": "error",
     "traceback": [
      "\u001b[1;31m---------------------------------------------------------------------------\u001b[0m",
      "\u001b[1;31mIndexError\u001b[0m                                Traceback (most recent call last)",
      "\u001b[1;32mc:\\Progetto_Ing_Informatica\\OLA_2023_Private\\Project-Pricing-Advertising-2022-2023\\3_Joint_Pricing_Adv.ipynb Cell 10\u001b[0m in \u001b[0;36m<cell line: 1>\u001b[1;34m()\u001b[0m\n\u001b[0;32m     <a href='vscode-notebook-cell:/c%3A/Progetto_Ing_Informatica/OLA_2023_Private/Project-Pricing-Advertising-2022-2023/3_Joint_Pricing_Adv.ipynb#X21sZmlsZQ%3D%3D?line=16'>17</a>\u001b[0m \u001b[39mprint\u001b[39m(pricing_pulled_arm)\n\u001b[0;32m     <a href='vscode-notebook-cell:/c%3A/Progetto_Ing_Informatica/OLA_2023_Private/Project-Pricing-Advertising-2022-2023/3_Joint_Pricing_Adv.ipynb#X21sZmlsZQ%3D%3D?line=17'>18</a>\u001b[0m arms\u001b[39m.\u001b[39mappend(pricing_pulled_arm)\n\u001b[0;32m     <a href='vscode-notebook-cell:/c%3A/Progetto_Ing_Informatica/OLA_2023_Private/Project-Pricing-Advertising-2022-2023/3_Joint_Pricing_Adv.ipynb#X21sZmlsZQ%3D%3D?line=18'>19</a>\u001b[0m bidding_pulled_arm \u001b[39m=\u001b[39m bidding_learner\u001b[39m.\u001b[39mpull_arm(pricing_learner\u001b[39m=\u001b[39mpricing_learner, price_idx\u001b[39m=\u001b[39mpricing_pulled_arm,\n\u001b[1;32m---> <a href='vscode-notebook-cell:/c%3A/Progetto_Ing_Informatica/OLA_2023_Private/Project-Pricing-Advertising-2022-2023/3_Joint_Pricing_Adv.ipynb#X21sZmlsZQ%3D%3D?line=19'>20</a>\u001b[0m                                               margin\u001b[39m=\u001b[39mcalculate_margin(prices[pricing_pulled_arm]))\n\u001b[0;32m     <a href='vscode-notebook-cell:/c%3A/Progetto_Ing_Informatica/OLA_2023_Private/Project-Pricing-Advertising-2022-2023/3_Joint_Pricing_Adv.ipynb#X21sZmlsZQ%3D%3D?line=21'>22</a>\u001b[0m \u001b[39m# simulate accesses\u001b[39;00m\n\u001b[0;32m     <a href='vscode-notebook-cell:/c%3A/Progetto_Ing_Informatica/OLA_2023_Private/Project-Pricing-Advertising-2022-2023/3_Joint_Pricing_Adv.ipynb#X21sZmlsZQ%3D%3D?line=22'>23</a>\u001b[0m \u001b[39m# empty daily reward\u001b[39;00m\n\u001b[0;32m     <a href='vscode-notebook-cell:/c%3A/Progetto_Ing_Informatica/OLA_2023_Private/Project-Pricing-Advertising-2022-2023/3_Joint_Pricing_Adv.ipynb#X21sZmlsZQ%3D%3D?line=23'>24</a>\u001b[0m ts_daily \u001b[39m=\u001b[39m {\u001b[39m'\u001b[39m\u001b[39mreward\u001b[39m\u001b[39m'\u001b[39m: \u001b[39m0\u001b[39m, \u001b[39m'\u001b[39m\u001b[39msuccesses\u001b[39m\u001b[39m'\u001b[39m: \u001b[39m0\u001b[39m, \u001b[39m'\u001b[39m\u001b[39mclicks\u001b[39m\u001b[39m'\u001b[39m: \u001b[39m0\u001b[39m}\n",
      "\u001b[1;31mIndexError\u001b[0m: list index out of range"
     ]
    }
   ],
   "source": [
    "for e in tqdm(range(n_experiments), desc='Number of experiments'):\n",
    "    # Create Learner\n",
    "    pricing_learner = TS_Learner(n_arms)\n",
    "    bidding_learner = GPTS_Learner3(n_arms, arms=bids)\n",
    "    ts_rewards = []\n",
    "\n",
    "    # generate empty deque\n",
    "    arms = []\n",
    "    bids_p = []\n",
    "    first = True\n",
    "\n",
    "    # Simulate experiments\n",
    "    for d in range(T):\n",
    "\n",
    "        # choose arms\n",
    "        pricing_pulled_arm = pricing_learner.pull_arm()\n",
    "        print(pricing_pulled_arm)\n",
    "        arms.append(pricing_pulled_arm)\n",
    "        bidding_pulled_arm = bidding_learner.pull_arm(pricing_learner=pricing_learner, price_idx=pricing_pulled_arm,\n",
    "                                                      margin=calculate_margin(prices[pricing_pulled_arm]))\n",
    "\n",
    "        # simulate accesses\n",
    "        # empty daily reward\n",
    "        ts_daily = {'reward': 0, 'successes': 0, 'clicks': 0}\n",
    "        costpc = 0\n",
    "\n",
    "        n_trials, costpc = bid_env.round(pulled_arm=bidding_pulled_arm, user_c=i)\n",
    "        # quanti acquisti\n",
    "        ts_successes = pr_env.round(pricing_pulled_arm, c, n_trials)\n",
    "        # aggiorno beta\n",
    "        pricing_learner.update(pricing_pulled_arm, ts_successes, n_trials)\n",
    "\n",
    "        # aggiorno reward_giornaliera\n",
    "        ts_daily['reward'] += (ts_successes + ts_class_returns) * margin(prices[pricing_pulled_arm]) - n_trials * costpc\n",
    "        ts_daily['successes'] += ts_successes\n",
    "        ts_daily['clicks'] += n_trials\n",
    "\n",
    "        # work on dequy\n",
    "        ts_dicty = {'arm': pricing_pulled_arm, 'sample': ts_daily['successes']}\n",
    "        ts_dequy.append(ts_dicty)\n",
    "        pricing_learner.update_poisson(ts_dequy.popleft())\n",
    "        bidding_learner.update(pulled_arm=bidding_pulled_arm, costs=costpc, clicks=ts_daily['clicks'])\n",
    "        # save daily reward\n",
    "        ts_rewards.append(ts_daily['reward'])\n",
    "        if check_convergence(arms)[0] and first:\n",
    "            Didi = {'arm': check_convergence(arms)[1], 'day': d, 'exp': e}\n",
    "            first = False\n",
    "            conv_arms.append(Didi)\n",
    "            # print(check_convergence(arms)[1])\n",
    "        bids_p.append(bidding_pulled_arm)\n",
    "        if check_convergence(bids_p, crit=0.7)[0]:\n",
    "            print('Conv bid', check_convergence(bids_p, crit=0.7)[1])\n",
    "\n",
    "    final_bids.append(bids_p)\n",
    "    # print(arms)\n",
    "    ts_rewards.insert(0, 0)\n",
    "    ts_final_rewards.append(ts_rewards)\n",
    "final_bids = np.array(final_bids)\n",
    "\n"
   ]
  },
  {
   "attachments": {},
   "cell_type": "markdown",
   "metadata": {},
   "source": [
    "# Trash"
   ]
  },
  {
   "cell_type": "code",
   "execution_count": null,
   "metadata": {
    "collapsed": false
   },
   "outputs": [],
   "source": [
    "class Pricing_Environment():\n",
    "    def __init__(self, n_arms, probabilities, prices=None):\n",
    "        self.n_arms = n_arms\n",
    "        self.probabilities = probabilities\n",
    "        self.prices = prices\n",
    "\n",
    "    def round(self, pulled_arm, user_c, n_trials=1):\n",
    "        successes = np.random.binomial(n_trials, self.probabilities[user_c.index][pulled_arm])\n",
    "        number_returns = np.random.poisson(successes * self.poissons[user_c.index])\n",
    "        marg = self.margins[pulled_arm] * (number_returns + successes)\n",
    "        return successes, number_returns"
   ]
  },
  {
   "cell_type": "code",
   "execution_count": null,
   "metadata": {},
   "outputs": [],
   "source": [
    "class Bidding_Enviroment():\n",
    "    def __init__(self, bids, acc_sigma, cost_sigma, user_classes, n_arms):\n",
    "        self.bids = bids\n",
    "        self.acc_means = self.initialize_accesses(user_classes=user_classes, bids=bids)\n",
    "        self.cost_means = self.initialize_cost(user_classes=user_classes, bids=bids)\n",
    "        self.acc_sigmas = np.ones(len(bids)) * acc_sigma\n",
    "        self.cost_sigmas = np.ones(len(bids)) * cost_sigma\n",
    "        self.n_arms = n_arms\n",
    "\n",
    "    def initialize_accesses(self, user_classes, bids):\n",
    "        means = np.zeros(shape=(len(user_classes), len(bids)))\n",
    "        for ii, c in enumerate(user_classes):\n",
    "            for j, b in enumerate(bids):\n",
    "                means[ii, j] = c.clicks(b)\n",
    "        return means\n",
    "\n",
    "    def initialize_cost(self, user_classes, bids):\n",
    "        means = np.zeros(shape=(len(user_classes), len(bids)))\n",
    "        for ii, c in enumerate(user_classes):\n",
    "            for j, b in enumerate(bids):\n",
    "                means[ii, j] = cost_per_click(b)\n",
    "        return means\n",
    "\n",
    "    def round(self, pulled_arm, user_c):\n",
    "        sample_accesses = np.random.normal(self.acc_means[user_c, pulled_arm], self.acc_sigmas[pulled_arm])\n",
    "        sample_cost = np.random.normal(self.cost_means[user_c, pulled_arm], self.cost_sigmas[pulled_arm])\n",
    "        if sample_cost > self.bids[pulled_arm]:\n",
    "            sample_cost = self.bids[pulled_arm]\n",
    "        if sample_cost < 0:\n",
    "            sample_cost = 0\n",
    "        if int(sample_accesses) < 0:\n",
    "            sample_accesses = self.acc_means[user_c, pulled_arm]\n",
    "\n",
    "        return int(sample_accesses), sample_cost"
   ]
  },
  {
   "cell_type": "code",
   "execution_count": null,
   "metadata": {
    "collapsed": false
   },
   "outputs": [],
   "source": [
    "def fun(user_class, bid, price):\n",
    "    mean_per_bid = user_class.get_click_bids(bid) * (user_class.get_conversion_per_price(price) * calculate_margin(price)) - user_class.get_click_bids(bid) * user_class.get_cost_per_click(bid)    #sample_cost\n",
    "    return mean_per_bid\n",
    "\n",
    "class BiddingEnvironment:\n",
    "    def __init__(self, bids, sigma, user_class, price, n_arms):\n",
    "        self.bids = bids\n",
    "        self.means = self.initialize_means(user_class=user_class, bids=bids, price=price)\n",
    "        self.sigmas = np.ones(len(bids)) * sigma\n",
    "        self.price = price\n",
    "        self.n_arms = n_arms\n",
    "\n",
    "    def initialize_means(self, user_class, bids, price):\n",
    "        means = np.zeros(len(bids))\n",
    "        for i in range(len(means)):\n",
    "                means[i] = fun(user_class, bids[i], price)\n",
    "        return means\n",
    "\n",
    "    def round(self, pulled_arm):\n",
    "        return np.random.normal(self.means[pulled_arm], self.sigmas[pulled_arm])"
   ]
  },
  {
   "attachments": {},
   "cell_type": "markdown",
   "metadata": {},
   "source": []
  },
  {
   "cell_type": "code",
   "execution_count": null,
   "metadata": {},
   "outputs": [],
   "source": []
  }
 ],
 "metadata": {
  "kernelspec": {
   "display_name": "Python 3",
   "language": "python",
   "name": "python3"
  },
  "language_info": {
   "codemirror_mode": {
    "name": "ipython",
    "version": 3
   },
   "file_extension": ".py",
   "mimetype": "text/x-python",
   "name": "python",
   "nbconvert_exporter": "python",
   "pygments_lexer": "ipython3",
   "version": "3.8.16"
  }
 },
 "nbformat": 4,
 "nbformat_minor": 0
}
