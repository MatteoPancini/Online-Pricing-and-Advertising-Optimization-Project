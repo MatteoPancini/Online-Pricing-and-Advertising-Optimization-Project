{
 "cells": [
  {
   "cell_type": "code",
   "execution_count": null,
   "outputs": [],
   "source": [
    "import numpy as np\n",
    "import matplotlib.pyplot as plt\n",
    "from tqdm import tqdm\n",
    "\n",
    "from User_Classes import UserClass\n",
    "from Advertising_Environment import calculate_margin, calculate_price_index\n",
    "from Clairvoyant import find_optimal_bid_for_class\n",
    "from Advertising.GPTS_Learner import GPTS_Learner\n",
    "from Advertising.GPUCB_Learner import GPUCB_Learner\n",
    "\n",
    "import warnings\n",
    "warnings.filterwarnings(\"ignore\")"
   ],
   "metadata": {
    "collapsed": false
   }
  },
  {
   "cell_type": "markdown",
   "source": [
    "# Environment"
   ],
   "metadata": {
    "collapsed": false
   }
  },
  {
   "cell_type": "code",
   "execution_count": null,
   "outputs": [],
   "source": [
    "#Environment\n",
    "n_arms = 100\n",
    "\n",
    "prices = [50, 100, 150, 200, 250]\n",
    "bids = np.linspace(0.01, 3.0, n_arms)\n",
    "sigma = 200\n",
    "\n",
    "user = UserClass(name='C1')\n",
    "\n",
    "T = 365\n",
    "n_experiments = 5\n",
    "\n",
    "gpts_rewards_per_experiment = []\n",
    "gpucb_rewards_per_experiment = []\n",
    "\n",
    "\n",
    "optimum_bid = find_optimal_bid_for_class(user.user_index, calculate_price_index(price))"
   ],
   "metadata": {
    "collapsed": false
   }
  },
  {
   "cell_type": "code",
   "execution_count": null,
   "outputs": [],
   "source": [
    "class Pricing_Environment():\n",
    "    def __init__(self, n_arms, probabilities, prices=None):\n",
    "        self.n_arms = n_arms\n",
    "        self.probabilities = probabilities\n",
    "        self.prices = prices\n",
    "\n",
    "    def round(self, pulled_arm, user_c, n_trials=1):\n",
    "        successes = np.random.binomial(n_trials, self.probabilities[user_c.index][pulled_arm])\n",
    "        number_returns = np.random.poisson(successes * self.poissons[user_c.index])\n",
    "        marg = self.margins[pulled_arm] * (number_returns + successes)\n",
    "        return successes, number_returns"
   ],
   "metadata": {
    "collapsed": false
   }
  },
  {
   "cell_type": "code",
   "execution_count": null,
   "outputs": [],
   "source": [
    "def fun(user_class, bid, price):\n",
    "    mean_per_bid = user_class.get_click_bids(bid) * (user_class.get_conversion_per_price(price) * calculate_margin(price)) - user_class.get_click_bids(bid) * user_class.get_cost_per_click(bid)    #sample_cost\n",
    "    return mean_per_bid\n",
    "\n",
    "class BiddingEnvironment:\n",
    "    def __init__(self, bids, sigma, user_class, price, n_arms):\n",
    "        self.bids = bids\n",
    "        self.means = self.initialize_means(user_class=user_class, bids=bids, price=price)\n",
    "        self.sigmas = np.ones(len(bids)) * sigma\n",
    "        self.price = price\n",
    "        self.n_arms = n_arms\n",
    "\n",
    "    def initialize_means(self, user_class, bids, price):\n",
    "        means = np.zeros(len(bids))\n",
    "        for i in range(len(means)):\n",
    "                means[i] = fun(user_class, bids[i], price)\n",
    "        return means\n",
    "\n",
    "    def round(self, pulled_arm):\n",
    "        return np.random.normal(self.means[pulled_arm], self.sigmas[pulled_arm])"
   ],
   "metadata": {
    "collapsed": false
   }
  }
 ],
 "metadata": {
  "kernelspec": {
   "display_name": "Python 3",
   "language": "python",
   "name": "python3"
  },
  "language_info": {
   "codemirror_mode": {
    "name": "ipython",
    "version": 2
   },
   "file_extension": ".py",
   "mimetype": "text/x-python",
   "name": "python",
   "nbconvert_exporter": "python",
   "pygments_lexer": "ipython2",
   "version": "2.7.6"
  }
 },
 "nbformat": 4,
 "nbformat_minor": 0
}
