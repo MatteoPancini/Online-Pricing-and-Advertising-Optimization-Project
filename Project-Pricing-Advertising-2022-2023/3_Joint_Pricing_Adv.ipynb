{
 "cells": [
  {
   "cell_type": "code",
   "execution_count": 11,
   "metadata": {},
   "outputs": [
    {
     "name": "stdout",
     "output_type": "stream",
     "text": [
      "c:\\Progetto_Ing_Informatica\\OLA_2023_Private\n"
     ]
    }
   ],
   "source": [
    "cd ../"
   ]
  },
  {
   "cell_type": "code",
   "execution_count": 12,
   "metadata": {
    "collapsed": false
   },
   "outputs": [],
   "source": [
    "import numpy as np\n",
    "import matplotlib.pyplot as plt\n",
    "from tqdm import tqdm\n",
    "\n",
    "from User_Classes import UserClass\n",
    "from Advertising_Environment import calculate_margin, calculate_price_index\n",
    "from Clairvoyant import find_optimal_bid_for_class\n",
    "from Advertising.GPTS_Learner import GPTS_Learner\n",
    "from Advertising.GPUCB_Learner import GPUCB_Learner\n",
    "\n",
    "import warnings\n",
    "warnings.filterwarnings(\"ignore\")"
   ]
  },
  {
   "attachments": {},
   "cell_type": "markdown",
   "metadata": {
    "collapsed": false
   },
   "source": [
    "# Environment"
   ]
  },
  {
   "cell_type": "code",
   "execution_count": 18,
   "metadata": {
    "collapsed": false
   },
   "outputs": [],
   "source": [
    "#Environment\n",
    "n_arms = 100\n",
    "\n",
    "prices = [50, 100, 150, 200, 250]\n",
    "bids = np.linspace(0.01, 3.0, n_arms)\n",
    "sigma = 200\n",
    "\n",
    "user = UserClass(name='C1')\n",
    "\n",
    "T = 365\n",
    "n_experiments = 5\n",
    "\n",
    "gpts_rewards_per_experiment = []\n",
    "gpucb_rewards_per_experiment = []\n",
    "\n",
    "\n",
    "optimum_bid = find_optimal_bid_for_class(user.user_index, calculate_price_index(prices[3]))"
   ]
  },
  {
   "cell_type": "code",
   "execution_count": 19,
   "metadata": {},
   "outputs": [
    {
     "data": {
      "text/plain": [
       "(1.0, 13767.97338369385)"
      ]
     },
     "execution_count": 19,
     "metadata": {},
     "output_type": "execute_result"
    }
   ],
   "source": [
    "optimum_bid"
   ]
  },
  {
   "cell_type": "code",
   "execution_count": 20,
   "metadata": {},
   "outputs": [],
   "source": [
    "class Environment_Pricing_3(): #m\n",
    "    def __init__(self, n_arms, user_class, probabilities):\n",
    "        self.user_class = user_class\n",
    "        self.time = 0\n",
    "        self.n_arms = n_arms\n",
    "        self.probabilities = probabilities\n",
    "\n",
    "    def round(self, user_class, price):\n",
    "        successes = np.random.binomial(n_trials, user_class.get_conversion_probabilities(price))\n",
    "        return successes"
   ]
  },
  {
   "cell_type": "code",
   "execution_count": null,
   "metadata": {},
   "outputs": [],
   "source": [
    "class BiddingEnvironment:\n",
    "    def __init__(self, bids, sigma, user_class, price, n_arms):\n",
    "        self.bids = bids\n",
    "        self.means = self.initialize_means(user_class=user_class, bids=bids, price=price)\n",
    "        self.sigmas = np.ones(len(bids)) * sigma\n",
    "        self.price = price\n",
    "        self.n_arms = n_arms\n",
    "\n",
    "    def initialize_means(self, user_class, bids, price):\n",
    "        means = np.zeros(len(bids))\n",
    "        for i in range(len(means)):\n",
    "                means[i] = fun(user_class, bids[i], price)\n",
    "        return means\n",
    "\n",
    "    def round(self, pulled_arm):\n",
    "        return np.random.normal(self.means[pulled_arm], self.sigmas[pulled_arm])"
   ]
  },
  {
   "cell_type": "code",
   "execution_count": null,
   "metadata": {},
   "outputs": [],
   "source": []
  },
  {
   "attachments": {},
   "cell_type": "markdown",
   "metadata": {},
   "source": [
    "# Trash"
   ]
  },
  {
   "cell_type": "code",
   "execution_count": 14,
   "metadata": {
    "collapsed": false
   },
   "outputs": [],
   "source": [
    "class Pricing_Environment():\n",
    "    def __init__(self, n_arms, probabilities, prices=None):\n",
    "        self.n_arms = n_arms\n",
    "        self.probabilities = probabilities\n",
    "        self.prices = prices\n",
    "\n",
    "    def round(self, pulled_arm, user_c, n_trials=1):\n",
    "        successes = np.random.binomial(n_trials, self.probabilities[user_c.index][pulled_arm])\n",
    "        number_returns = np.random.poisson(successes * self.poissons[user_c.index])\n",
    "        marg = self.margins[pulled_arm] * (number_returns + successes)\n",
    "        return successes, number_returns"
   ]
  },
  {
   "cell_type": "code",
   "execution_count": null,
   "metadata": {},
   "outputs": [],
   "source": [
    "class Bidding_Enviroment():\n",
    "    def __init__(self, bids, acc_sigma, cost_sigma, user_classes, n_arms):\n",
    "        self.bids = bids\n",
    "        self.acc_means = self.initialize_accesses(user_classes=user_classes, bids=bids)\n",
    "        self.cost_means = self.initialize_cost(user_classes=user_classes, bids=bids)\n",
    "        self.acc_sigmas = np.ones(len(bids)) * acc_sigma\n",
    "        self.cost_sigmas = np.ones(len(bids)) * cost_sigma\n",
    "        self.n_arms = n_arms\n",
    "\n",
    "    def initialize_accesses(self, user_classes, bids):\n",
    "        means = np.zeros(shape=(len(user_classes), len(bids)))\n",
    "        for ii, c in enumerate(user_classes):\n",
    "            for j, b in enumerate(bids):\n",
    "                means[ii, j] = c.clicks(b)\n",
    "        return means\n",
    "\n",
    "    def initialize_cost(self, user_classes, bids):\n",
    "        means = np.zeros(shape=(len(user_classes), len(bids)))\n",
    "        for ii, c in enumerate(user_classes):\n",
    "            for j, b in enumerate(bids):\n",
    "                means[ii, j] = cost_per_click(b)\n",
    "        return means\n",
    "\n",
    "    def round(self, pulled_arm, user_c):\n",
    "        sample_accesses = np.random.normal(self.acc_means[user_c, pulled_arm], self.acc_sigmas[pulled_arm])\n",
    "        sample_cost = np.random.normal(self.cost_means[user_c, pulled_arm], self.cost_sigmas[pulled_arm])\n",
    "        if sample_cost > self.bids[pulled_arm]:\n",
    "            sample_cost = self.bids[pulled_arm]\n",
    "        if sample_cost < 0:\n",
    "            sample_cost = 0\n",
    "        if int(sample_accesses) < 0:\n",
    "            sample_accesses = self.acc_means[user_c, pulled_arm]\n",
    "\n",
    "        return int(sample_accesses), sample_cost"
   ]
  },
  {
   "cell_type": "code",
   "execution_count": 15,
   "metadata": {
    "collapsed": false
   },
   "outputs": [],
   "source": [
    "def fun(user_class, bid, price):\n",
    "    mean_per_bid = user_class.get_click_bids(bid) * (user_class.get_conversion_per_price(price) * calculate_margin(price)) - user_class.get_click_bids(bid) * user_class.get_cost_per_click(bid)    #sample_cost\n",
    "    return mean_per_bid\n",
    "\n",
    "class BiddingEnvironment:\n",
    "    def __init__(self, bids, sigma, user_class, price, n_arms):\n",
    "        self.bids = bids\n",
    "        self.means = self.initialize_means(user_class=user_class, bids=bids, price=price)\n",
    "        self.sigmas = np.ones(len(bids)) * sigma\n",
    "        self.price = price\n",
    "        self.n_arms = n_arms\n",
    "\n",
    "    def initialize_means(self, user_class, bids, price):\n",
    "        means = np.zeros(len(bids))\n",
    "        for i in range(len(means)):\n",
    "                means[i] = fun(user_class, bids[i], price)\n",
    "        return means\n",
    "\n",
    "    def round(self, pulled_arm):\n",
    "        return np.random.normal(self.means[pulled_arm], self.sigmas[pulled_arm])"
   ]
  },
  {
   "attachments": {},
   "cell_type": "markdown",
   "metadata": {},
   "source": []
  },
  {
   "cell_type": "code",
   "execution_count": null,
   "metadata": {},
   "outputs": [],
   "source": []
  }
 ],
 "metadata": {
  "kernelspec": {
   "display_name": "Python 3",
   "language": "python",
   "name": "python3"
  },
  "language_info": {
   "codemirror_mode": {
    "name": "ipython",
    "version": 3
   },
   "file_extension": ".py",
   "mimetype": "text/x-python",
   "name": "python",
   "nbconvert_exporter": "python",
   "pygments_lexer": "ipython3",
   "version": "3.8.16"
  }
 },
 "nbformat": 4,
 "nbformat_minor": 0
}
