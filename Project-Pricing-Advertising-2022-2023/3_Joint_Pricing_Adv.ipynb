{
 "cells": [
  {
   "attachments": {},
   "cell_type": "markdown",
   "metadata": {},
   "source": [
    "Consider the case in which all the users belong to class C1, and no information about the advertising and pricing curves is known beforehand. Apply the GP-UCB and GP-TS algorithms when using GPs to model the two advertising curves, reporting the plots of the average (over a sufficiently large number of runs) value and standard deviation of the cumulative regret, cumulative reward, instantaneous regret, and instantaneous reward."
   ]
  },
  {
   "cell_type": "code",
   "execution_count": 1,
   "metadata": {
    "collapsed": false
   },
   "outputs": [],
   "source": [
    "import numpy as np\n",
    "import matplotlib.pyplot as plt\n",
    "from tqdm import tqdm\n",
    "from collections import deque\n",
    "\n",
    "from utils.User_Classes import UserClass\n",
    "from utils.Clairvoyant import find_optimal_bid_for_class\n",
    "from utils.tools import calculate_margin, calculate_price_index, fun\n",
    "from utils.learners.TS_Learner import TS_Learner\n",
    "#from p3.bidding_enviroment import BiddingEnvironment, fun\n",
    "from utils.tools import fun\n",
    "#from p3.GPTS_learner import  GPTS_Learner3\n",
    "\n",
    "import warnings\n",
    "warnings.filterwarnings(\"ignore\")"
   ]
  },
  {
   "attachments": {},
   "cell_type": "markdown",
   "metadata": {
    "collapsed": false
   },
   "source": [
    "# Environment"
   ]
  },
  {
   "cell_type": "code",
   "execution_count": 4,
   "metadata": {},
   "outputs": [],
   "source": [
    "#TODO: move to p3\n",
    "class Princing_Environment_3(): #m\n",
    "    def __init__(self, n_arms, user_class):\n",
    "        self.user_class = user_class\n",
    "        self.time = 0\n",
    "        self.n_arms = n_arms\n",
    "\n",
    "    def round(self, user_class, price, n):\n",
    "        successes = np.random.binomial(n, user_class.get_conversion_probabilities(price)) # Number of samples n\n",
    "        return successes"
   ]
  },
  {
   "cell_type": "code",
   "execution_count": null,
   "metadata": {},
   "outputs": [],
   "source": [
    "class Bidding_Environment_3:\n",
    "    def __init__(self, bids, access_sigma, cost_sigma, user_class, n_arms):\n",
    "        self.bids = bids\n",
    "        self.acc_means = self.initialize_accesses(user_classes=user_class, bids=bids)\n",
    "        self.cost_means = self.initialize_cost(user_classes=user_class, bids=bids)\n",
    "        self.acc_sigmas = np.ones(len(bids)) * access_sigma\n",
    "        self.cost_sigmas = np.ones(len(bids)) * cost_sigma\n",
    "        self.n_arms = n_arms\n",
    "\n",
    "    #TODO: probabily remove\n",
    "    def initialize_means(self, user_class, bids, price):\n",
    "        means = np.zeros(len(bids))\n",
    "        for i in range(len(means)):\n",
    "                means[i] = fun(user_class, bids[i], price)\n",
    "        return means\n",
    "    \n",
    "    def initialize_accesses(self, user_class, bids):\n",
    "        means = np.zeros(len(bids))\n",
    "        for j, b in enumerate(bids):\n",
    "            means[j] = user_class.get_click_bids(b)\n",
    "        return means\n",
    "\n",
    "    def initialize_cost(self, user_class, bids):\n",
    "        means = np.zeros(len(bids))\n",
    "        for j, b in enumerate(bids):\n",
    "            means[j] = user_class.get_cost_per_click(b)\n",
    "        return means\n",
    "\n",
    "    def round(self, pulled_arm):\n",
    "        sample_accesses = np.random.normal(self.acc_means[pulled_arm], self.acc_sigmas[pulled_arm])\n",
    "        sample_cost = np.random.normal(self.cost_means[pulled_arm], self.cost_sigmas[pulled_arm])\n",
    "        #Handle the exceptions\n",
    "        if sample_cost > self.bids[pulled_arm]:\n",
    "            sample_cost = self.bids[pulled_arm]\n",
    "        if sample_cost < 0:\n",
    "            sample_cost = 0\n",
    "        if int(sample_accesses) < 0:\n",
    "            sample_accesses = self.acc_means[pulled_arm]\n",
    "\n",
    "        return int(sample_accesses), sample_cost"
   ]
  },
  {
   "cell_type": "code",
   "execution_count": 2,
   "metadata": {
    "collapsed": false
   },
   "outputs": [],
   "source": [
    "#Environment\n",
    "n_arms = 100\n",
    "\n",
    "prices = [50, 100, 150, 200, 250]\n",
    "bids = np.linspace(0.01, 3.0, n_arms)\n",
    "access_sigma = 50\n",
    "cost_sigma = 10\n",
    "\n",
    "user = UserClass(name='C1')\n",
    "\n",
    "T = 20\n",
    "n_experiments = 5\n",
    "\n",
    "gpts_rewards_per_experiment = []\n",
    "gpucb_rewards_per_experiment = []\n",
    "\n",
    "\n",
    "#optimum_bid = find_optimal_bid_for_class(user.user_index, calculate_price_index(prices[3]))"
   ]
  },
  {
   "cell_type": "code",
   "execution_count": null,
   "metadata": {},
   "outputs": [],
   "source": [
    "# Create Environment\n",
    "pr_env = Princing_Environment_3(n_arms, user)\n",
    "bid_env = Bidding_Environment_3(bids, access_sigma, cost_sigma, user, n_arms)"
   ]
  },
  {
   "cell_type": "code",
   "execution_count": null,
   "metadata": {},
   "outputs": [],
   "source": [
    "from sklearn.gaussian_process import GaussianProcessRegressor\n",
    "from sklearn.gaussian_process.kernels import RBF, ConstantKernel as C\n",
    "import numpy as np\n",
    "from utils.learners.Learner import Learner\n",
    "\n",
    "#This learner consider the access and the cost\n",
    "class GPTS_Learner3(Learner):\n",
    "    def __init__(self, n_arms, arms):\n",
    "        super().__init__(n_arms)\n",
    "        self.arms = arms\n",
    "        self.acc_means = np.zeros(self.n_arms)\n",
    "        self.acc_sigmas = np.ones(self.n_arms)\n",
    "        self.cost_means = np.zeros(self.n_arms)\n",
    "        self.cost_sigmas = np.ones(self.n_arms)\n",
    "        self.pulled_arms = []\n",
    "        self.collected_clicks = []\n",
    "        self.collected_costs = []\n",
    "        alpha_acc = 1000\n",
    "        kernel_acc = C(100, (100, 1e6)) * RBF(10, (1e-1, 1e6))\n",
    "        self.gp_acc = GaussianProcessRegressor(kernel=kernel_acc, alpha=alpha_acc, normalize_y=False, n_restarts_optimizer=1)\n",
    "\n",
    "        alpha_cost = 0.3\n",
    "        kernel_cost = C(0.1, (1, 1e2)) * RBF(0.1, (1, 1e2))\n",
    "        self.gp_cost = GaussianProcessRegressor(kernel=kernel_cost, alpha=alpha_cost, normalize_y=False, n_restarts_optimizer=1)\n",
    "\n",
    "    def update_observations_gpts(self, pulled_arm, clicks, costs):\n",
    "        # self.rewards_per_arm[pulled_arm].append(reward)\n",
    "        self.collected_clicks = np.append(self.collected_clicks, clicks)\n",
    "        self.collected_costs = np.append(self.collected_costs, costs)\n",
    "        self.pulled_arms.append(self.arms[pulled_arm])\n",
    "\n",
    "    def update_model(self):\n",
    "        x = np.atleast_2d(self.pulled_arms).T\n",
    "        y = self.collected_clicks\n",
    "        self.gp_acc.fit(x, y)\n",
    "        self.acc_means, self.acc_sigmas = self.gp_acc.predict(np.atleast_2d(self.arms).T, return_std=True)\n",
    "        self.acc_sigmas = np.maximum(self.acc_sigmas, 30)\n",
    "\n",
    "        x = np.atleast_2d(self.pulled_arms).T\n",
    "        y = self.collected_costs\n",
    "        self.gp_cost.fit(x, y)\n",
    "        self.cost_means, self.cost_sigmas = self.gp_cost.predict(np.atleast_2d(self.arms).T, return_std=True)\n",
    "        self.cost_sigmas = np.maximum(self.cost_sigmas, 0.01)\n",
    "\n",
    "    def update(self, pulled_arm, clicks, costs):\n",
    "        self.t += 1\n",
    "        self.update_observations_gpts(pulled_arm, clicks, costs)\n",
    "        self.update_model()\n",
    "\n",
    "    def pull_arm(self, conv_rate, margin):\n",
    "        \"\"\"\n",
    "        if self.t < self.n_arms:\n",
    "            return self.t  # % self.n_arms\n",
    "        try:\n",
    "            conv_rate = pricing_learner.beta_parameters[price_idx, 0] / (pricing_learner.beta_parameters[price_idx, 0]\n",
    "                                                                         + pricing_learner.beta_parameters[\n",
    "                                                                             price_idx, 1])\n",
    "        except ZeroDivisionError:\n",
    "            conv_rate = 0\n",
    "            print('DIV 0')\n",
    "        #poisson = pricing_learner.poisson_vector[price_idx, 0] + 1\n",
    "        \"\"\"\n",
    "        \n",
    "\n",
    "        exp_rew = np.random.normal(self.acc_means * (np.ones(shape=self.n_arms) * margin * conv_rate - self.cost_means), 50) \n",
    "        #Probabily change in self.acc_means * (np.ones(shape=self.n_arms) in self.means\n",
    "\n",
    "        bid_idx = np.argmax(exp_rew)\n",
    "\n",
    "        return bid_idx"
   ]
  },
  {
   "cell_type": "code",
   "execution_count": 5,
   "metadata": {},
   "outputs": [
    {
     "name": "stderr",
     "output_type": "stream",
     "text": [
      "Number of experiments:   0%|          | 0/5 [00:00<?, ?it/s]"
     ]
    },
    {
     "name": "stderr",
     "output_type": "stream",
     "text": [
      "\n"
     ]
    },
    {
     "name": "stdout",
     "output_type": "stream",
     "text": [
      "78\n"
     ]
    },
    {
     "ename": "IndexError",
     "evalue": "list index out of range",
     "output_type": "error",
     "traceback": [
      "\u001B[1;31m---------------------------------------------------------------------------\u001B[0m",
      "\u001B[1;31mIndexError\u001B[0m                                Traceback (most recent call last)",
      "\u001B[1;32mc:\\Progetto_Ing_Informatica\\OLA_2023_Private\\Project-Pricing-Advertising-2022-2023\\3_Joint_Pricing_Adv.ipynb Cell 6\u001B[0m in \u001B[0;36m<cell line: 1>\u001B[1;34m()\u001B[0m\n\u001B[0;32m     <a href='vscode-notebook-cell:/c%3A/Progetto_Ing_Informatica/OLA_2023_Private/Project-Pricing-Advertising-2022-2023/3_Joint_Pricing_Adv.ipynb#W5sZmlsZQ%3D%3D?line=16'>17</a>\u001B[0m \u001B[39mprint\u001B[39m(pricing_pulled_arm)\n\u001B[0;32m     <a href='vscode-notebook-cell:/c%3A/Progetto_Ing_Informatica/OLA_2023_Private/Project-Pricing-Advertising-2022-2023/3_Joint_Pricing_Adv.ipynb#W5sZmlsZQ%3D%3D?line=17'>18</a>\u001B[0m arms\u001B[39m.\u001B[39mappend(pricing_pulled_arm)\n\u001B[0;32m     <a href='vscode-notebook-cell:/c%3A/Progetto_Ing_Informatica/OLA_2023_Private/Project-Pricing-Advertising-2022-2023/3_Joint_Pricing_Adv.ipynb#W5sZmlsZQ%3D%3D?line=18'>19</a>\u001B[0m bidding_pulled_arm \u001B[39m=\u001B[39m bidding_learner\u001B[39m.\u001B[39mpull_arm(pricing_learner\u001B[39m=\u001B[39mpricing_learner, price_idx\u001B[39m=\u001B[39mpricing_pulled_arm,\n\u001B[1;32m---> <a href='vscode-notebook-cell:/c%3A/Progetto_Ing_Informatica/OLA_2023_Private/Project-Pricing-Advertising-2022-2023/3_Joint_Pricing_Adv.ipynb#W5sZmlsZQ%3D%3D?line=19'>20</a>\u001B[0m                                               margin\u001B[39m=\u001B[39mcalculate_margin(prices[pricing_pulled_arm]))\n\u001B[0;32m     <a href='vscode-notebook-cell:/c%3A/Progetto_Ing_Informatica/OLA_2023_Private/Project-Pricing-Advertising-2022-2023/3_Joint_Pricing_Adv.ipynb#W5sZmlsZQ%3D%3D?line=21'>22</a>\u001B[0m \u001B[39m# simulate accesses\u001B[39;00m\n\u001B[0;32m     <a href='vscode-notebook-cell:/c%3A/Progetto_Ing_Informatica/OLA_2023_Private/Project-Pricing-Advertising-2022-2023/3_Joint_Pricing_Adv.ipynb#W5sZmlsZQ%3D%3D?line=22'>23</a>\u001B[0m \u001B[39m# empty daily reward\u001B[39;00m\n\u001B[0;32m     <a href='vscode-notebook-cell:/c%3A/Progetto_Ing_Informatica/OLA_2023_Private/Project-Pricing-Advertising-2022-2023/3_Joint_Pricing_Adv.ipynb#W5sZmlsZQ%3D%3D?line=23'>24</a>\u001B[0m ts_daily \u001B[39m=\u001B[39m {\u001B[39m'\u001B[39m\u001B[39mreward\u001B[39m\u001B[39m'\u001B[39m: \u001B[39m0\u001B[39m, \u001B[39m'\u001B[39m\u001B[39msuccesses\u001B[39m\u001B[39m'\u001B[39m: \u001B[39m0\u001B[39m, \u001B[39m'\u001B[39m\u001B[39mclicks\u001B[39m\u001B[39m'\u001B[39m: \u001B[39m0\u001B[39m}\n",
      "\u001B[1;31mIndexError\u001B[0m: list index out of range"
     ]
    }
   ],
   "source": [
    "for e in tqdm(range(n_experiments), desc='Number of experiments'):\n",
    "    # Create Learner\n",
    "    pricing_learner = TS_Learner(n_arms)\n",
    "    bidding_learner = GPTS_Learner3(n_arms, arms=bids)\n",
    "    #bidding_learner = GPUCB_Learner3(n_arms, arms=bids)\n",
    "    ts_rewards = []\n",
    "\n",
    "    # generate empty deque\n",
    "    arms = []\n",
    "    bids_p = []\n",
    "    first = True\n",
    "\n",
    "    # Simulate experiments\n",
    "    for d in range(T):\n",
    "\n",
    "        # choose arms\n",
    "        pricing_pulled_arm = pricing_learner.pull_arm()\n",
    "        print(\"Pricing pulled arm:\", pricing_pulled_arm)\n",
    "        arms.append(pricing_pulled_arm)\n",
    "        #Calculate the conversion rate of the price choose\n",
    "        conv_rate =pricing_learner.beta_parameters[pricing_pulled_arm, 0] / (pricing_learner.beta_parameters[pricing_pulled_arm, 0]\n",
    "            + pricing_learner.beta_parameters[pricing_pulled_arm, 1])\n",
    "\n",
    "        # Fixed the price, I can find the bid that maximize the expected reward\n",
    "        bidding_pulled_arm = bidding_learner.pull_arm(conv_rate=conv_rate, margin=calculate_margin(prices[pricing_pulled_arm]))\n",
    "\n",
    "        # simulate accesses\n",
    "        # empty daily reward\n",
    "        ts_daily = {'reward': 0, 'successes': 0, 'clicks': 0}\n",
    "        cost = 0 #costpc - ntrials = n_accesses\n",
    "\n",
    "        n_accesses, cost = bid_env.round(pulled_arm=bidding_pulled_arm, user_c=i)\n",
    "        # quanti acquisti\n",
    "        ts_successes = pr_env.round(user, pricing_pulled_arm, n_accesses)\n",
    "        # aggiorno beta\n",
    "        #TODO: create a TS_Learner for the pricing that handles update of accesses and cost\n",
    "        pricing_learner.update(pricing_pulled_arm, ts_successes, n_trials)\n",
    "\n",
    "        # aggiorno reward_giornaliera\n",
    "        ts_daily['reward'] += (ts_successes + ts_class_returns) * margin(prices[pricing_pulled_arm]) - n_trials * costpc\n",
    "        ts_daily['successes'] += ts_successes\n",
    "        ts_daily['clicks'] += n_trials\n",
    "\n",
    "        # work on dequy\n",
    "        ts_dicty = {'arm': pricing_pulled_arm, 'sample': ts_daily['successes']}\n",
    "        ts_dequy.append(ts_dicty)\n",
    "        pricing_learner.update_poisson(ts_dequy.popleft())\n",
    "        bidding_learner.update(pulled_arm=bidding_pulled_arm, costs=costpc, clicks=ts_daily['clicks'])\n",
    "        # save daily reward\n",
    "        ts_rewards.append(ts_daily['reward'])\n",
    "        if check_convergence(arms)[0] and first:\n",
    "            Didi = {'arm': check_convergence(arms)[1], 'day': d, 'exp': e}\n",
    "            first = False\n",
    "            conv_arms.append(Didi)\n",
    "            # print(check_convergence(arms)[1])\n",
    "        bids_p.append(bidding_pulled_arm)\n",
    "        if check_convergence(bids_p, crit=0.7)[0]:\n",
    "            print('Conv bid', check_convergence(bids_p, crit=0.7)[1])\n",
    "\n",
    "    final_bids.append(bids_p)\n",
    "    # print(arms)\n",
    "    ts_rewards.insert(0, 0)\n",
    "    ts_final_rewards.append(ts_rewards)\n",
    "final_bids = np.array(final_bids)\n",
    "\n"
   ]
  },
  {
   "attachments": {},
   "cell_type": "markdown",
   "metadata": {},
   "source": [
    "# Test"
   ]
  },
  {
   "cell_type": "code",
   "execution_count": null,
   "metadata": {},
   "outputs": [],
   "source": [
    "from p1.pricing_environment import *"
   ]
  },
  {
   "cell_type": "code",
   "execution_count": null,
   "metadata": {},
   "outputs": [],
   "source": [
    "n_arms = 5\n",
    "\n",
    "env = Environment_Pricing_2(n_arms=n_arms, p = p)\n",
    "prices = env.prices\n",
    "\n",
    "T = 365 #time steps for each experiment\n",
    "\n",
    "n_experiments = 1000\n",
    "\n",
    "ts_rewards_per_experiment = [] #list to store the collected rewards for TS_Learner over each experiment\n",
    "pulled_arm_number = [0 for i in range(0,5)]\n",
    "# Loop over the experiments\n",
    "for e in tqdm(range(0, n_experiments)):\n",
    "    env_pr = Environment_Pricing_2(n_arms=n_arms, p = p)\n",
    "    ts_learner = TS_Learner(n_arms=n_arms)\n",
    "    for t in range(0,T):\n",
    "        #Thompson sampling\n",
    "        pulled_arm = ts_learner.pull_arm()\n",
    "        reward = env_pr.round(class_index=0, price_index=pulled_arm, bid=1)\n",
    "        #print(reward)\n",
    "        ts_learner.update(pulled_arm, reward/34627)\n",
    "        ts_learner.update_observations(pulled_arm, reward)\n",
    "        pulled_arm_number[pulled_arm] += 1\n",
    "\n",
    "\n",
    "    ts_rewards_per_experiment.append(ts_learner.collected_rewards)\n",
    "\n",
    "# Compute the mean and standard deviation of the cumulative reward at each round\n",
    "mean_cum_reward_ts = np.mean(ts_rewards_per_experiment, axis=0)\n",
    "#std_cum_reward_ts = np.std(ts_rewards_per_experiment, axis=0)\n",
    "\n",
    "reward_ts = mean_cum_reward_ts\n",
    "\n",
    "#std_cum_reward_ucb = np.std(ucb_reward_per_experiment, axis=0)"
   ]
  },
  {
   "attachments": {},
   "cell_type": "markdown",
   "metadata": {},
   "source": [
    "# Trash"
   ]
  },
  {
   "cell_type": "code",
   "execution_count": null,
   "metadata": {
    "collapsed": false
   },
   "outputs": [],
   "source": [
    "class Pricing_Environment():\n",
    "    def __init__(self, n_arms, probabilities, prices=None):\n",
    "        self.n_arms = n_arms\n",
    "        self.probabilities = probabilities\n",
    "        self.prices = prices\n",
    "\n",
    "    def round(self, pulled_arm, user_c, n_trials=1):\n",
    "        successes = np.random.binomial(n_trials, self.probabilities[user_c.index][pulled_arm])\n",
    "        number_returns = np.random.poisson(successes * self.poissons[user_c.index])\n",
    "        marg = self.margins[pulled_arm] * (number_returns + successes)\n",
    "        return successes, number_returns"
   ]
  },
  {
   "cell_type": "code",
   "execution_count": null,
   "metadata": {},
   "outputs": [],
   "source": [
    "class Bidding_Enviroment():\n",
    "    def __init__(self, bids, acc_sigma, cost_sigma, user_classes, n_arms):\n",
    "        self.bids = bids\n",
    "        self.acc_means = self.initialize_accesses(user_classes=user_classes, bids=bids)\n",
    "        self.cost_means = self.initialize_cost(user_classes=user_classes, bids=bids)\n",
    "        self.acc_sigmas = np.ones(len(bids)) * acc_sigma\n",
    "        self.cost_sigmas = np.ones(len(bids)) * cost_sigma\n",
    "        self.n_arms = n_arms\n",
    "\n",
    "    def initialize_accesses(self, user_classes, bids):\n",
    "        means = np.zeros(shape=(len(user_classes), len(bids)))\n",
    "        for ii, c in enumerate(user_classes):\n",
    "            for j, b in enumerate(bids):\n",
    "                means[ii, j] = c.clicks(b)\n",
    "        return means\n",
    "\n",
    "    def initialize_cost(self, user_classes, bids):\n",
    "        means = np.zeros(shape=(len(user_classes), len(bids)))\n",
    "        for ii, c in enumerate(user_classes):\n",
    "            for j, b in enumerate(bids):\n",
    "                means[ii, j] = cost_per_click(b)\n",
    "        return means\n",
    "\n",
    "    def round(self, pulled_arm, user_c):\n",
    "        sample_accesses = np.random.normal(self.acc_means[user_c, pulled_arm], self.acc_sigmas[pulled_arm])\n",
    "        sample_cost = np.random.normal(self.cost_means[user_c, pulled_arm], self.cost_sigmas[pulled_arm])\n",
    "        if sample_cost > self.bids[pulled_arm]:\n",
    "            sample_cost = self.bids[pulled_arm]\n",
    "        if sample_cost < 0:\n",
    "            sample_cost = 0\n",
    "        if int(sample_accesses) < 0:\n",
    "            sample_accesses = self.acc_means[user_c, pulled_arm]\n",
    "\n",
    "        return int(sample_accesses), sample_cost"
   ]
  },
  {
   "cell_type": "code",
   "execution_count": null,
   "metadata": {
    "collapsed": false
   },
   "outputs": [],
   "source": [
    "def fun(user_class, bid, price):\n",
    "    mean_per_bid = user_class.get_click_bids(bid) * (user_class.get_conversion_per_price(price) * calculate_margin(price)) - user_class.get_click_bids(bid) * user_class.get_cost_per_click(bid)    #sample_cost\n",
    "    return mean_per_bid\n",
    "\n",
    "class BiddingEnvironment:\n",
    "    def __init__(self, bids, sigma, user_class, price, n_arms):\n",
    "        self.bids = bids\n",
    "        self.means = self.initialize_means(user_class=user_class, bids=bids, price=price)\n",
    "        self.sigmas = np.ones(len(bids)) * sigma\n",
    "        self.price = price\n",
    "        self.n_arms = n_arms\n",
    "\n",
    "    def initialize_means(self, user_class, bids, price):\n",
    "        means = np.zeros(len(bids))\n",
    "        for i in range(len(means)):\n",
    "                means[i] = fun(user_class, bids[i], price)\n",
    "        return means\n",
    "\n",
    "    def round(self, pulled_arm):\n",
    "        return np.random.normal(self.means[pulled_arm], self.sigmas[pulled_arm])"
   ]
  },
  {
   "attachments": {},
   "cell_type": "markdown",
   "metadata": {},
   "source": []
  },
  {
   "cell_type": "code",
   "execution_count": null,
   "metadata": {},
   "outputs": [],
   "source": []
  }
 ],
 "metadata": {
  "kernelspec": {
   "display_name": "Python 3",
   "language": "python",
   "name": "python3"
  },
  "language_info": {
   "codemirror_mode": {
    "name": "ipython",
    "version": 3
   },
   "file_extension": ".py",
   "mimetype": "text/x-python",
   "name": "python",
   "nbconvert_exporter": "python",
   "pygments_lexer": "ipython3",
   "version": "3.8.16"
  }
 },
 "nbformat": 4,
 "nbformat_minor": 0
}
