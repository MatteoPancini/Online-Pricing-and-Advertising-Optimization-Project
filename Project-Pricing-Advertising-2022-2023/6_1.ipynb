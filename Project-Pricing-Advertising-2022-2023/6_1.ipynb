{
 "cells": [
  {
   "cell_type": "markdown",
   "metadata": {},
   "source": [
    "Develop the EXP3 algorithm, which is devoted to dealing with adversarial settings. This algorithm can be also used to deal with non-stationary settings when no information about the specific form of non-stationarity is known beforehand. Consider a simplified version of Step 5 in which the bid is fixed. First, apply the EXP3 algorithm to this setting. The expected result is that EXP3 performs worse than the two non-stationary versions of UCB1."
   ]
  },
  {
   "cell_type": "code",
   "execution_count": 2,
   "metadata": {},
   "outputs": [],
   "source": [
    "import numpy as np\n",
    "import matplotlib.pyplot as plt\n",
    "\n",
    "import utils.UCB as ucb\n",
    "import p6.Environment6_1 as env\n",
    "import utils.UCB_SW as swucb\n",
    "import utils.UCB_Cusum as cu_ucb\n",
    "import p6.EXP3_learner as exp3\n",
    "import utils.parameters as param"
   ]
  },
  {
   "cell_type": "code",
   "execution_count": 3,
   "metadata": {},
   "outputs": [],
   "source": [
    "T = 2\n",
    "n_experiments = 1\n",
    "\n",
    "class_id = 1\n",
    "env = env.Environment6_1(class_id, T)\n",
    "opt = np.array([env.get_optimal_price(t) for t in range(T)]) \n",
    "n_arms = env.n_arms"
   ]
  },
  {
   "cell_type": "code",
   "execution_count": 4,
   "metadata": {},
   "outputs": [],
   "source": [
    "ucb_rewards_per_experiment = []\n",
    "swucb_rewards_per_experiment = []\n",
    "cusumucb_rewards_per_experiment = []\n",
    "exp3_rewards_per_experiment = []\n",
    "\n",
    "cumregret_ucb = []\n",
    "cumregret_swucb = []\n",
    "cumregret_cusumucb = []\n",
    "cumregret_exp3 = []\n",
    "\n",
    "cumreward_ucb = []\n",
    "cumreward_swucb = []\n",
    "cumreward_cusumucb = []\n",
    "cumreward_exp3 = []"
   ]
  },
  {
   "cell_type": "code",
   "execution_count": 5,
   "metadata": {},
   "outputs": [
    {
     "name": "stdout",
     "output_type": "stream",
     "text": [
      "0-0 experiments started\n"
     ]
    },
    {
     "ename": "ValueError",
     "evalue": "maximum supported dimension for an ndarray is 32, found 100",
     "output_type": "error",
     "traceback": [
      "\u001b[0;31m---------------------------------------------------------------------------\u001b[0m",
      "\u001b[0;31mValueError\u001b[0m                                Traceback (most recent call last)",
      "\u001b[1;32m/Users/ema/Desktop/OLA_2023_Private/Project-Pricing-Advertising-2022-2023/6_1.ipynb Cell 5\u001b[0m in \u001b[0;36m1\n\u001b[1;32m     <a href='vscode-notebook-cell:/Users/ema/Desktop/OLA_2023_Private/Project-Pricing-Advertising-2022-2023/6_1.ipynb#X15sZmlsZQ%3D%3D?line=11'>12</a>\u001b[0m \u001b[39m# Pull arms and update learners\u001b[39;00m\n\u001b[1;32m     <a href='vscode-notebook-cell:/Users/ema/Desktop/OLA_2023_Private/Project-Pricing-Advertising-2022-2023/6_1.ipynb#X15sZmlsZQ%3D%3D?line=12'>13</a>\u001b[0m \u001b[39m# UCB\u001b[39;00m\n\u001b[1;32m     <a href='vscode-notebook-cell:/Users/ema/Desktop/OLA_2023_Private/Project-Pricing-Advertising-2022-2023/6_1.ipynb#X15sZmlsZQ%3D%3D?line=13'>14</a>\u001b[0m pulled_arm \u001b[39m=\u001b[39m ucb_learner\u001b[39m.\u001b[39mpull_arm()\n\u001b[0;32m---> <a href='vscode-notebook-cell:/Users/ema/Desktop/OLA_2023_Private/Project-Pricing-Advertising-2022-2023/6_1.ipynb#X15sZmlsZQ%3D%3D?line=14'>15</a>\u001b[0m reward \u001b[39m=\u001b[39m env\u001b[39m.\u001b[39;49mround(pulled_arm, t)\n\u001b[1;32m     <a href='vscode-notebook-cell:/Users/ema/Desktop/OLA_2023_Private/Project-Pricing-Advertising-2022-2023/6_1.ipynb#X15sZmlsZQ%3D%3D?line=15'>16</a>\u001b[0m ucb_learner\u001b[39m.\u001b[39mupdate(pulled_arm, reward)\n\u001b[1;32m     <a href='vscode-notebook-cell:/Users/ema/Desktop/OLA_2023_Private/Project-Pricing-Advertising-2022-2023/6_1.ipynb#X15sZmlsZQ%3D%3D?line=17'>18</a>\u001b[0m \u001b[39m# SW-UCB\u001b[39;00m\n",
      "File \u001b[0;32m~/Desktop/OLA_2023_Private/Project-Pricing-Advertising-2022-2023/p6/Environment6_1.py:33\u001b[0m, in \u001b[0;36mEnvironment6_1.round\u001b[0;34m(self, pulled_arm, t)\u001b[0m\n\u001b[1;32m     31\u001b[0m \u001b[39mdef\u001b[39;00m \u001b[39mround\u001b[39m(\u001b[39mself\u001b[39m, pulled_arm, t): \n\u001b[1;32m     32\u001b[0m     phase \u001b[39m=\u001b[39m \u001b[39mmin\u001b[39m(math\u001b[39m.\u001b[39mfloor(t \u001b[39m/\u001b[39m \u001b[39mself\u001b[39m\u001b[39m.\u001b[39mphase_size) \u001b[39m+\u001b[39m \u001b[39m1\u001b[39m, \u001b[39mself\u001b[39m\u001b[39m.\u001b[39mn_phases)\n\u001b[0;32m---> 33\u001b[0m     result \u001b[39m=\u001b[39m np\u001b[39m.\u001b[39;49mrandom\u001b[39m.\u001b[39;49mbinomial(\u001b[39m1\u001b[39;49m, \u001b[39mself\u001b[39;49m\u001b[39m.\u001b[39;49mpricing_prob_per_phase[phase][pulled_arm], \u001b[39mself\u001b[39;49m\u001b[39m.\u001b[39;49mn_clicks)\n\u001b[1;32m     34\u001b[0m     reward \u001b[39m=\u001b[39m np\u001b[39m.\u001b[39msum(result) \u001b[39m*\u001b[39m (param\u001b[39m.\u001b[39mprices[pulled_arm] \u001b[39m-\u001b[39m param\u001b[39m.\u001b[39mcost) \u001b[39m-\u001b[39m \u001b[39mself\u001b[39m\u001b[39m.\u001b[39mtot_costs \n\u001b[1;32m     35\u001b[0m     \u001b[39mreturn\u001b[39;00m np\u001b[39m.\u001b[39msum(result), \u001b[39mself\u001b[39m\u001b[39m.\u001b[39mn_clicks \u001b[39m-\u001b[39m np\u001b[39m.\u001b[39msum(result), reward, result \n",
      "File \u001b[0;32mmtrand.pyx:3423\u001b[0m, in \u001b[0;36mnumpy.random.mtrand.RandomState.binomial\u001b[0;34m()\u001b[0m\n",
      "\u001b[0;31mValueError\u001b[0m: maximum supported dimension for an ndarray is 32, found 100"
     ]
    }
   ],
   "source": [
    "for e in range(0, n_experiments):\n",
    "    ucb_learner = ucb.UCB(n_arms=n_arms)\n",
    "    swucb_learner = swucb.SWUCB(n_arms=n_arms, window_size=int(3 * (T ** 0.5)))\n",
    "    cusum_ucb_learner = cu_ucb.CusumUCBLearner(n_arms, M=100, eps=0.1, h=2 * np.log(T), alpha=np.sqrt(np.log(T) / T))\n",
    "    exp3_learner = exp3.EXP3(n_arms)\n",
    "\n",
    "    for t in range(0, T):\n",
    "\n",
    "        if t % 10 == 0:\n",
    "            print(f\"{e}-{t} experiments started\")\n",
    "            \n",
    "        # Pull arms and update learners\n",
    "        # UCB\n",
    "        pulled_arm = ucb_learner.pull_arm()\n",
    "        reward = env.round(pulled_arm, t)\n",
    "        ucb_learner.update(pulled_arm, reward)\n",
    "\n",
    "        # SW-UCB\n",
    "        pulled_arm = swucb_learner.pull_arm()\n",
    "        reward = env.round(pulled_arm, t)\n",
    "        swucb_learner.update(pulled_arm, reward)\n",
    "\n",
    "        # Cusum-UCB\n",
    "        pulled_arm = cusum_ucb_learner.pull_arm()\n",
    "        reward = env.round(pulled_arm, t)\n",
    "        cusum_ucb_learner.update(pulled_arm, reward)\n",
    "\n",
    "        # EXP3\n",
    "        pulled_arm = exp3_learner.pull_arm()\n",
    "        reward = env.round(pulled_arm, t)\n",
    "        exp3_learner.update(pulled_arm, reward)\n",
    "\n",
    "    # Store collected rewards\n",
    "    ucb_rewards_per_experiment.append(ucb_learner.collected_rewards)\n",
    "    swucb_rewards_per_experiment.append(swucb_learner.collected_rewards)\n",
    "    cusumucb_rewards_per_experiment.append(cusum_ucb_learner.collected_rewards)\n",
    "\n",
    "    cumregret_ucb.append(np.cumsum(opt - ucb_rewards_per_experiment[e]))\n",
    "    cumregret_swucb.append(np.cumsum(opt - swucb_rewards_per_experiment[e]))\n",
    "    cumregret_cusumucb.append(np.cumsum(opt - cusumucb_rewards_per_experiment[e]))\n",
    "\n",
    "    cumreward_ucb.append(np.cumsum(ucb_rewards_per_experiment[e]))\n",
    "    cumreward_swucb.append(np.cumsum(swucb_rewards_per_experiment[e]))\n",
    "    cumreward_cusumucb.append(np.cumsum(cusumucb_rewards_per_experiment[e]))\n",
    "\n",
    "    exp3_rewards_per_experiment.append(exp3_learner.collected_rewards)\n",
    "    cumregret_exp3.append(np.cumsum(opt - exp3_rewards_per_experiment[e]))\n",
    "    cumreward_exp3.append(np.cumsum(exp3_rewards_per_experiment[e]))"
   ]
  },
  {
   "cell_type": "code",
   "execution_count": null,
   "metadata": {},
   "outputs": [],
   "source": [
    "plt.figure(0)\n",
    "plt.title(\"Step6 - 3 phases\")\n",
    "plt.xlabel(\"t\")\n",
    "plt.ylabel(\"Cumulative Regret\")\n",
    "plt.plot(np.mean(cumregret_ucb, axis=0), 'b')\n",
    "plt.plot(np.mean(cumregret_swucb, axis=0), 'r')\n",
    "plt.plot(np.mean(cumregret_cusumucb, axis=0), 'g')\n",
    "plt.plot(np.mean(cumregret_exp3, axis=0), 'tab:orange')\n",
    "plt.fill_between(range(T), np.mean(cumregret_ucb, axis=0) - np.std(cumregret_ucb, axis=0),\n",
    "                 np.mean(cumregret_ucb, axis=0) + np.std(cumregret_ucb, axis=0), color=\"blue\", alpha=0.2)\n",
    "plt.fill_between(range(T), np.mean(cumregret_swucb, axis=0) - np.std(cumregret_swucb, axis=0),\n",
    "                 np.mean(cumregret_swucb, axis=0) + np.std(cumregret_swucb, axis=0), color=\"red\", alpha=0.2)\n",
    "plt.fill_between(range(T), np.mean(cumregret_cusumucb, axis=0) - np.std(cumregret_cusumucb, axis=0),\n",
    "                 np.mean(cumregret_cusumucb, axis=0) + np.std(cumregret_cusumucb, axis=0), color=\"green\", alpha=0.2)\n",
    "plt.fill_between(range(T), np.mean(cumregret_exp3, axis=0) - np.std(cumregret_exp3, axis=0),\n",
    "                 np.mean(cumregret_exp3, axis=0) + np.std(cumregret_exp3, axis=0), color=\"tab:orange\", alpha=0.2)\n",
    "plt.legend([\"UCB\", \"SW-UCB\", \"CUSUM-UCB\", \"EXP3\"])\n",
    "plt.show()"
   ]
  },
  {
   "cell_type": "code",
   "execution_count": null,
   "metadata": {},
   "outputs": [],
   "source": [
    "plt.figure(1)\n",
    "plt.title(\"Step6 - 3 phases\")\n",
    "plt.xlabel(\"t\")\n",
    "plt.ylabel(\"Instantaneous Regret\")\n",
    "plt.plot(np.mean(opt - ucb_rewards_per_experiment, axis=0), 'b')\n",
    "plt.plot(np.mean(opt - swucb_rewards_per_experiment, axis=0), 'r')\n",
    "plt.plot(np.mean(opt - cusumucb_rewards_per_experiment, axis=0), 'g')\n",
    "plt.plot(np.mean(opt - exp3_rewards_per_experiment, axis=0), 'tab:orange')\n",
    "plt.fill_between(range(T),\n",
    "                 np.mean(opt - ucb_rewards_per_experiment, axis=0) - np.std(opt - ucb_rewards_per_experiment, axis=0),\n",
    "                 np.mean(opt - ucb_rewards_per_experiment, axis=0) + np.std(opt - ucb_rewards_per_experiment, axis=0),\n",
    "                 color=\"blue\", alpha=0.2)\n",
    "plt.fill_between(range(T),\n",
    "                 np.mean(opt - swucb_rewards_per_experiment, axis=0) - np.std(opt - swucb_rewards_per_experiment,\n",
    "                                                                              axis=0),\n",
    "                 np.mean(opt - swucb_rewards_per_experiment, axis=0) + np.std(opt - swucb_rewards_per_experiment,\n",
    "                                                                              axis=0), color=\"red\", alpha=0.2)\n",
    "plt.fill_between(range(T),\n",
    "                 np.mean(opt - cusumucb_rewards_per_experiment, axis=0) - np.std(opt - cusumucb_rewards_per_experiment,\n",
    "                                                                                 axis=0),\n",
    "                 np.mean(opt - cusumucb_rewards_per_experiment, axis=0) + np.std(opt - cusumucb_rewards_per_experiment,\n",
    "                                                                                 axis=0), color=\"green\", alpha=0.2)\n",
    "plt.fill_between(range(T),\n",
    "                 np.mean(opt - exp3_rewards_per_experiment, axis=0) - np.std(opt - exp3_rewards_per_experiment, axis=0),\n",
    "                 np.mean(opt - exp3_rewards_per_experiment, axis=0) + np.std(opt - exp3_rewards_per_experiment, axis=0),\n",
    "                 color=\"tab:orange\", alpha=0.2)\n",
    "plt.legend([\"UCB\", \"SW-UCB\", \"CUSUM-UCB\", \"EXP3\"])\n",
    "plt.show()"
   ]
  },
  {
   "cell_type": "code",
   "execution_count": null,
   "metadata": {},
   "outputs": [],
   "source": [
    "plt.figure(2)\n",
    "plt.title(\"Step6 - 3 phases\")\n",
    "plt.xlabel(\"t\")\n",
    "plt.ylabel(\"Cumulative Reward\")\n",
    "plt.plot(np.mean(cumreward_ucb, axis=0), 'b')\n",
    "plt.plot(np.mean(cumreward_swucb, axis=0), 'r')\n",
    "plt.plot(np.mean(cumreward_cusumucb, axis=0), 'g')\n",
    "plt.plot(np.mean(cumreward_exp3, axis=0), 'tab:orange')\n",
    "plt.fill_between(range(T), np.mean(cumreward_ucb, axis=0) - np.std(cumreward_ucb, axis=0),\n",
    "                 np.mean(cumreward_ucb, axis=0) + np.std(cumreward_ucb, axis=0), color=\"blue\", alpha=0.2)\n",
    "plt.fill_between(range(T), np.mean(cumreward_swucb, axis=0) - np.std(cumreward_swucb, axis=0),\n",
    "                 np.mean(cumreward_swucb, axis=0) + np.std(cumreward_swucb, axis=0), color=\"red\", alpha=0.2)\n",
    "plt.fill_between(range(T), np.mean(cumreward_cusumucb, axis=0) - np.std(cumreward_cusumucb, axis=0),\n",
    "                 np.mean(cumreward_cusumucb, axis=0) + np.std(cumreward_cusumucb, axis=0), color=\"green\", alpha=0.2)\n",
    "plt.fill_between(range(T), np.mean(cumreward_exp3, axis=0) - np.std(cumreward_exp3, axis=0),\n",
    "                 np.mean(cumreward_exp3, axis=0) + np.std(cumreward_exp3, axis=0), color=\"tab:orange\", alpha=0.2)\n",
    "plt.legend([\"UCB\", \"SW-UCB\", \"CUSUM-UCB\", \"EXP3\"])\n",
    "plt.show()"
   ]
  },
  {
   "cell_type": "code",
   "execution_count": null,
   "metadata": {},
   "outputs": [],
   "source": [
    "plt.figure(3)\n",
    "plt.title(\"Step6 - 3 phases\")\n",
    "plt.xlabel(\"t\")\n",
    "plt.ylabel(\"Instantaneous Reward\")\n",
    "plt.plot(opt, 'k--')\n",
    "plt.plot(np.mean(ucb_rewards_per_experiment, axis=0), 'b')\n",
    "plt.plot(np.mean(swucb_rewards_per_experiment, axis=0), 'r')\n",
    "plt.plot(np.mean(cusumucb_rewards_per_experiment, axis=0), 'g')\n",
    "plt.plot(np.mean(exp3_rewards_per_experiment, axis=0), 'tab:orange')\n",
    "plt.fill_between(range(T), np.mean(ucb_rewards_per_experiment, axis=0) - np.std(ucb_rewards_per_experiment, axis=0),\n",
    "                 np.mean(ucb_rewards_per_experiment, axis=0) + np.std(ucb_rewards_per_experiment, axis=0), color=\"blue\",\n",
    "                 alpha=0.2)\n",
    "plt.fill_between(range(T), np.mean(swucb_rewards_per_experiment, axis=0) - np.std(swucb_rewards_per_experiment, axis=0),\n",
    "                 np.mean(swucb_rewards_per_experiment, axis=0) + np.std(swucb_rewards_per_experiment, axis=0),\n",
    "                 color=\"red\", alpha=0.2)\n",
    "plt.fill_between(range(T),\n",
    "                 np.mean(cusumucb_rewards_per_experiment, axis=0) - np.std(cusumucb_rewards_per_experiment, axis=0),\n",
    "                 np.mean(cusumucb_rewards_per_experiment, axis=0) + np.std(cusumucb_rewards_per_experiment, axis=0),\n",
    "                 color=\"green\", alpha=0.2)\n",
    "plt.fill_between(range(T), np.mean(exp3_rewards_per_experiment, axis=0) - np.std(exp3_rewards_per_experiment, axis=0),\n",
    "                 np.mean(exp3_rewards_per_experiment, axis=0) + np.std(exp3_rewards_per_experiment, axis=0),\n",
    "                 color=\"tab:orange\", alpha=0.2)\n",
    "plt.legend([\"Optimal\", \"UCB\", \"SW-UCB\", \"CUSUM-UCB\", \"EXP3\"])\n",
    "plt.show()"
   ]
  }
 ],
 "metadata": {
  "kernelspec": {
   "display_name": "Python 3",
   "language": "python",
   "name": "python3"
  },
  "language_info": {
   "codemirror_mode": {
    "name": "ipython",
    "version": 3
   },
   "file_extension": ".py",
   "mimetype": "text/x-python",
   "name": "python",
   "nbconvert_exporter": "python",
   "pygments_lexer": "ipython3",
   "version": "3.11.0"
  },
  "orig_nbformat": 4
 },
 "nbformat": 4,
 "nbformat_minor": 2
}
